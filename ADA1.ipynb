{
 "cells": [
  {
   "cell_type": "markdown",
   "id": "5ba36903-ee71-4a62-9bb8-8e0270fdae64",
   "metadata": {},
   "source": [
    "# Advanced Text Analytics Lab 1"
   ]
  },
  {
   "cell_type": "markdown",
   "id": "1de31fe1-70a5-4357-b9d9-be40038c556c",
   "metadata": {},
   "source": [
    "This notebook is the first of two lab notebooks that you will submit as part of your assessment for the Advanced Data Analytics unit. \n",
    "\n",
    "This notebook is contains three sections:\n",
    "1. **Word embeddings:** This will introduce you to loading and training word embeddings using the Gensim library.\n",
    "2. **Introducing neural text classifiers:** Here we show you how to construct a neural network text classifier for sentiment analysis using Pytorch. \n",
    "3. **Improving neural text classifiers:** This section gives you a chance to improve the classifier from the previous section by applying what we have learned in the lectures.\n",
    "\n",
    "## Learning Outcomes\n",
    "\n",
    "These sections will contain tutorial-like instructions, as you have seen in previous text analytics labs. On completing these sections, the intended learning outcomes are that you will be able to...\n",
    "1. Load pretrained word embeddings models.\n",
    "1. Learn word embeddings from an unlabelled dataset.\n",
    "1. Recognise the steps required to train and test a neural text classifier with Pytorch\n",
    "1. Adapt the architecture of a neural text classifier.\n",
    "\n",
    "## Getting Started -- Python Packages\n",
    "\n",
    "Please see the README.md file for instructions on setting up your Python environment. The readme will instruct you to install the required packages, in addition to those used for Introduction to Data Analytics:\n",
    "\n",
    " * pytorch=1.9.0\n",
    " * scipy=1.8.0\n",
    " * transformers=2.1.1\n",
    "\n",
    "## Your Tasks\n",
    "\n",
    "Inside each of these sections there are several **'To-do's**, which you must complete for your summative assessment. Your marks will be based on your answers to these to-dos. Please make sure to:\n",
    "1. Include the output of your code in the saved notebook. Plots and printed output should be visible without re-running the code. \n",
    "1. Include all code needed to generate your answers.\n",
    "1. Provide sufficient comments to understand how your method works.\n",
    "1. Write text in a cell in markdown format where a written answer is required. You can convert a cell to markdown format by pressing Escape-M. \n",
    "\n",
    "There are also some unmarked 'to-do's that are part of the tutorial to help you learn how to implement and use the methods studied here. These do not contribute to your final marks.\n",
    "\n",
    "## Good Academic Practice\n",
    "\n",
    "Please follow [the guidance on academic integrity provided by the university](http://www.bristol.ac.uk/students/support/academic-advice/academic-integrity/).\n",
    "You are required to write your own answers -- do not share your notebooks or copy someone else's writing. Do not copy text or long blocks of code directly into the notebook from online sources -- always rewrite in your own way. Breaking the rules can lead to strong penalties. \n",
    "\n",
    "## Marking Criteria\n",
    "\n",
    "1. The coursework (both notebooks) is worth 30% of the unit in total. \n",
    "1. There is a total of 100 marks available for both lab notebooks. \n",
    "1. This notebook is worth 50 of those marks.\n",
    "1. The number of marks for each to-do out of 100 is shown alongside each to-do.\n",
    "1. For to-dos that require you to write code, a good solution would meet the following criteria (in order of importance):\n",
    "   1. Solves the task or answers the question asked in the to-do. This means, if the code cells in the notebook are executed in order, we will get the output shown in your notebook.\n",
    "   1. The code is easy to follow and does not contain unnecessary steps.\n",
    "   1. The comments show that you understand how your solution works.\n",
    "   1. A very good answer will also provide code that is computationally efficient but easy to read.\n",
    "1. You can use any suitable publicly available libraries. Unless the task explicitly asks you to implement something from scratch, there is no penalty for using libraries to implement some steps.\n",
    "\n",
    "## Support\n",
    "\n",
    "The main source of support will be during the remaining lab sessions (Fridays 3-6pm) for this unit. \n",
    "\n",
    "The TAs and lecturer will help you with questions about the lectures, the code provided for you in this notebook, and general questions about the topics we cover. For the marked 'to-dos', they can only answer clarifying questions about what you have to do. \n",
    "\n",
    "Office hours: You can book office hours with Edwin on Mondays 3pm-5pm by sending him an email (edwin.simpson@bristol.ac.uk). If those times are not possible for you, please contact him by email to request an alternative. \n",
    "\n",
    "## Deadline\n",
    "\n",
    "The notebook must be submitted along with the second notebook on Blackboard before **Wednesday 24th May at 13.00**. \n",
    "\n",
    "## Submission\n",
    "\n",
    "You will need to zip up this notebook and the next notebook into a single .zip file, which you will submit to Blackboard through the 'assessment, submission and feedback' link on the left sidebar. \n",
    "\n",
    "Please name your files like this:\n",
    "   * Name this notebook ADA1_<student_number>.ipynb\n",
    "   * Name the zip file <student_number>.zip\n",
    "   * Please don't include your name as we want to mark anonymously to ensure fairness. "
   ]
  },
  {
   "cell_type": "markdown",
   "id": "c549d0b9-84d1-4d35-80b1-6341a3ea7ce6",
   "metadata": {},
   "source": [
    "# 1. Word Embeddings (max. 12 marks)"
   ]
  },
  {
   "cell_type": "markdown",
   "id": "df1a8852-b72a-48dd-a266-25a4bb774f6a",
   "metadata": {},
   "source": [
    "In this section we will use both sparse vectors and dense word2vec embeddings to obtain\n",
    "vector representations of words and documents. \n",
    "\n",
    "First, we will load the `tweet eval` sentiment dataset."
   ]
  },
  {
   "cell_type": "code",
   "execution_count": 27,
   "id": "5519c4b9-1cac-4e8a-9e7e-a8a40b389bdf",
   "metadata": {
    "collapsed": false,
    "jupyter": {
     "outputs_hidden": false
    },
    "pycharm": {
     "name": "#%%\n"
    }
   },
   "outputs": [
    {
     "name": "stdout",
     "output_type": "stream",
     "text": [
      "The autoreload extension is already loaded. To reload it, use:\n",
      "  %reload_ext autoreload\n"
     ]
    }
   ],
   "source": [
    "import numpy as np\n",
    "import torch\n",
    "\n",
    "%load_ext autoreload\n",
    "%autoreload 2"
   ]
  },
  {
   "cell_type": "code",
   "execution_count": 28,
   "id": "e599bf09-ed1a-4e40-a551-2e3a889a3487",
   "metadata": {},
   "outputs": [
    {
     "name": "stderr",
     "output_type": "stream",
     "text": [
      "Reusing dataset tweet_eval (./data_cache/tweet_eval/sentiment/1.1.0/12aee5282b8784f3e95459466db4cdf45c6bf49719c25cdb0743d71ed0410343)\n"
     ]
    },
    {
     "name": "stdout",
     "output_type": "stream",
     "text": [
      "Training dataset with 45615 instances loaded\n"
     ]
    },
    {
     "name": "stderr",
     "output_type": "stream",
     "text": [
      "Reusing dataset tweet_eval (./data_cache/tweet_eval/sentiment/1.1.0/12aee5282b8784f3e95459466db4cdf45c6bf49719c25cdb0743d71ed0410343)\n"
     ]
    },
    {
     "name": "stdout",
     "output_type": "stream",
     "text": [
      "Development/validation dataset with 2000 instances loaded\n"
     ]
    },
    {
     "name": "stderr",
     "output_type": "stream",
     "text": [
      "Reusing dataset tweet_eval (./data_cache/tweet_eval/sentiment/1.1.0/12aee5282b8784f3e95459466db4cdf45c6bf49719c25cdb0743d71ed0410343)\n"
     ]
    },
    {
     "name": "stdout",
     "output_type": "stream",
     "text": [
      "Test dataset with 12284 instances loaded\n"
     ]
    },
    {
     "name": "stderr",
     "output_type": "stream",
     "text": [
      "100%|██████████| 45615/45615 [00:01<00:00, 28241.88it/s]\n"
     ]
    },
    {
     "name": "stdout",
     "output_type": "stream",
     "text": [
      "The vocabulary has 43358 words\n",
      "Index of \"love\" is 22981\n"
     ]
    }
   ],
   "source": [
    "from datasets import load_dataset\n",
    "from tqdm import tqdm\n",
    "from sklearn.feature_extraction.text import CountVectorizer\n",
    "\n",
    "cache_dir = \"./data_cache\"\n",
    "\n",
    "train_dataset = load_dataset(\n",
    "    \"tweet_eval\",\n",
    "    name=\"sentiment\",\n",
    "    split=\"train\",\n",
    "    ignore_verifications=True,\n",
    "    cache_dir=cache_dir,\n",
    ")\n",
    "\n",
    "print(f\"Training dataset with {len(train_dataset)} instances loaded\")\n",
    "\n",
    "\n",
    "dev_dataset = load_dataset(\n",
    "    \"tweet_eval\",\n",
    "    name=\"sentiment\",\n",
    "    split=\"validation\",\n",
    "    ignore_verifications=True,\n",
    "    cache_dir=cache_dir,\n",
    ")\n",
    "\n",
    "print(f\"Development/validation dataset with {len(dev_dataset)} instances loaded\")\n",
    "\n",
    "\n",
    "test_dataset = load_dataset(\n",
    "    \"tweet_eval\",\n",
    "    name=\"sentiment\",\n",
    "    split=\"test\",\n",
    "    ignore_verifications=True,\n",
    "    cache_dir=cache_dir,\n",
    ")\n",
    "\n",
    "print(f\"Test dataset with {len(test_dataset)} instances loaded\")\n",
    "\n",
    "# Put the data into lists ready for the next steps...\n",
    "train_texts = []\n",
    "train_labels = []\n",
    "for i in tqdm(range(len(train_dataset))):\n",
    "    train_texts.append(train_dataset[i]['text'])\n",
    "    train_labels.append(train_dataset[i]['label'])\n",
    "            \n",
    "# HINT: A count vectorizer object may be useful in later steps\n",
    "vectorizer = CountVectorizer()\n",
    "vectorizer.fit(train_texts)\n",
    "\n",
    "# Get the vocabulary\n",
    "vocab = vectorizer.vocabulary_\n",
    "vocab_size = len(vocab)\n",
    "print(f'The vocabulary has {vocab_size} words')\n",
    "\n",
    "# invert the vocabulary dictionary so we can look up word types given an index\n",
    "keys = vocab.values()\n",
    "values = vocab.keys()\n",
    "vocab_inverted = dict(zip(keys, values))\n",
    "\n",
    "print(f'Index of \"love\" is {vocab[\"love\"]}')"
   ]
  },
  {
   "cell_type": "markdown",
   "id": "f8a63c3c-d24c-4810-9c34-4532b845e310",
   "metadata": {
    "tags": []
   },
   "source": [
    "## 1.1. Term-Document Matrix\n",
    "\n",
    "First we are going to obtain sparse word vectors from a term-document matrix."
   ]
  },
  {
   "cell_type": "markdown",
   "id": "bcd30abb-0951-46ee-81a6-b9217fba6b90",
   "metadata": {},
   "source": [
    "**TO-DO 1a:** Use CountVectorizer to obtain a term-document matrix for the training set. Then, write a function that takes a word as an argument and returns its term vector from the term-document matrix you computed. Get the term vector for the word 'love'. **(4 marks)**"
   ]
  },
  {
   "cell_type": "code",
   "execution_count": 29,
   "id": "52a52da7-89a5-41d6-bfab-83b3231d6949",
   "metadata": {},
   "outputs": [
    {
     "name": "stdout",
     "output_type": "stream",
     "text": [
      "The item vector of \"love\" is:\n",
      "[0 0 0 ... 0 0 0]\n"
     ]
    }
   ],
   "source": [
    "# WRITE YOUR ANSWER HERE\n",
    "\n",
    "# write a function to return the ierm vector of selected word\n",
    "def get_term_vector(word, vocabulary, term_document_matrix):\n",
    "    word_index = vocabulary[word]   # get the index of selected word\n",
    "    term_vector = term_document_matrix[:,word_index]\n",
    "    return term_vector\n",
    "\n",
    "term_document_matrix = vectorizer.transform(train_texts).toarray()  # obtain a term-document matrix\n",
    "love_vector = get_term_vector(word='love', vocabulary=vocab, term_document_matrix=term_document_matrix)\n",
    "print('The item vector of \"love\" is:')\n",
    "print(love_vector)"
   ]
  },
  {
   "cell_type": "code",
   "execution_count": 30,
   "id": "a286c6e1-f3e9-4c40-b968-0c24eb8dbaa9",
   "metadata": {},
   "outputs": [],
   "source": [
    "# Define a list of words for comparison with 'love' in the next to-do.\n",
    "comparison_words = ['2wee', '4your', 'follow', 'goodnight', 'liam', 'lol', 'okay', 'sorry',\n",
    " 'wish', 'yea', 'affair', 'agree', 'all', 'alliums', 'alliumsvancouver', 'always',\n",
    " 'amazing', 'and', 'appreciate', 'ask', 'babe', 'baby', 'bandit76044', 'barat',\n",
    " 'beautiful', 'birthday', 'boy', 'bro', 'btw', 'but', 'commando', 'content',\n",
    " 'dear', 'dm', 'dream', 'dreams', 'enjoy', 'enjoyed', 'everything', 'fam',\n",
    " 'followers', 'for', 'forever', 'forget', 'friend', 'friends', 'gabrielle',\n",
    " 'girl', 'god', 'good', 'guys', 'hahaha', 'happy', 'hate', 'hello', 'hey',\n",
    " 'homework', 'hope', 'in', 'invite', 'is', 'isabel', 'it', 'jonny', 'kiss', 'know',\n",
    " 'krishna', 'ladies', 'let', 'life', 'like', 'lil', 'little', 'love', 'loved',\n",
    " 'loves', 'loving', 'lucky', 'luv', 'ma', 'may', 'me', 'mean', 'meet', 'met', 'miss',\n",
    " 'much', 'my', 'notice', 'nsfanfic', 'nuffsaid', 'nya', 'of', 'on', 'one',\n",
    " 'ontario', 'perfect', 'prefer', 'queen', 'rails', 'rather', 'recommend',\n",
    " 'remember', 'see', 'share', 'sing', 'smile', 'so', 'suggest', 'sunat', 'sweet',\n",
    " 'tag', 'tail', 'tebaklagu', 'thank', 'thanks', 'the', 'this', 'thsoul', 'to',\n",
    " 'tomorrow', 'too', 'true', 'unreservedly', 'user', 'want', 'weed', 'what', 'wish',\n",
    " 'wishes', 'with', 'women_of_christ', 'would', 'wow', 'xxxxxx', 'yay', 'yes',\n",
    " 'you', 'your', 'zorro',\n",
    "]"
   ]
  },
  {
   "cell_type": "markdown",
   "id": "8fb324d8-a92a-4fd7-bd7f-f3b0f0958e6b",
   "metadata": {},
   "source": [
    "**TO-DO 1b:** Write a function that computes the similarity between two different term vectors. For this to-do, do not simply call a library function that implements a similarity function, implement the calculation yourself. Use the function to find the five most similar terms to \"love\" from the list of `comparison_words` given above. **(6 marks)**"
   ]
  },
  {
   "cell_type": "code",
   "execution_count": 31,
   "id": "3a2cca67-685e-4760-92be-eea50ed87769",
   "metadata": {
    "collapsed": false,
    "jupyter": {
     "outputs_hidden": false
    },
    "pycharm": {
     "name": "#%%\n"
    }
   },
   "outputs": [
    {
     "name": "stdout",
     "output_type": "stream",
     "text": [
      "The most similar terms to \"love\" from the list of comparison_word given above are ['love', 'you', 'user', 'the', 'and'].\n"
     ]
    },
    {
     "data": {
      "text/plain": [
       "[('love', 1.0),\n",
       " ('you', 0.14170441974255654),\n",
       " ('user', 0.09879910847998889),\n",
       " ('the', 0.08769922256389782),\n",
       " ('and', 0.08543046072802546)]"
      ]
     },
     "execution_count": 31,
     "metadata": {},
     "output_type": "execute_result"
    }
   ],
   "source": [
    "# WRITE YOUR OWN CODE HERE\n",
    "\n",
    "# define a function to computes the similarity between two different term vectors\n",
    "def get_cosine_similarity(term_vector_A, term_vector_B):\n",
    "    assert term_vector_A.shape == term_vector_B.shape       # check if two vectors have the same shape\n",
    "    return np.sum(term_vector_A * term_vector_B) / (np.sqrt(np.sum(term_vector_A**2)) * np.sqrt(np.sum(term_vector_B**2)))\n",
    "\n",
    "# iterate word in the \"comparison_words\" to calculate the cosine similarity with 'love'\n",
    "word_A = 'love'\n",
    "term_vector_A = get_term_vector(word_A, vocab, term_document_matrix)\n",
    "cosine_similarity_values = {}\n",
    "for word_B in comparison_words:\n",
    "    cosine_similarity_values[word_B] = get_cosine_similarity(term_vector_A=term_vector_A,\n",
    "                                                             term_vector_B=get_term_vector(word_B, vocab, term_document_matrix))\n",
    "# sort 'cosine_similarity_values' by the corresponding cosine similarity\n",
    "cosine_similarity_values = sorted(cosine_similarity_values.items(), key=lambda x:x[1], reverse=True)\n",
    "\n",
    "# get the five most similary terms\n",
    "five_most_similar_terms = list(dict(cosine_similarity_values).keys())[:5]\n",
    "print(f'The most similar terms to \"love\" from the list of comparison_word given above are {five_most_similar_terms}.')\n",
    "cosine_similarity_values[:5]"
   ]
  },
  {
   "cell_type": "markdown",
   "id": "b9654fde-cbe7-4020-99f7-49d97b4eacfa",
   "metadata": {},
   "source": [
    "## 1.2 Word Embeddings"
   ]
  },
  {
   "cell_type": "markdown",
   "id": "5e772ce7-853e-478d-9d0a-3f591100e88d",
   "metadata": {},
   "source": [
    "Now, we will use Gensim to train a word2vec model. The code below tokenizes the training texts, then runs word2vec (the skipgram model) to learn a set of embeddings. "
   ]
  },
  {
   "cell_type": "code",
   "execution_count": 32,
   "id": "7b5d13e1-683f-41f6-bf24-7c036aef59fa",
   "metadata": {
    "collapsed": false,
    "jupyter": {
     "outputs_hidden": false
    },
    "pycharm": {
     "is_executing": true,
     "name": "#%%\n"
    }
   },
   "outputs": [],
   "source": [
    "from gensim.models import word2vec\n",
    "from gensim.utils import tokenize\n",
    "\n",
    "tokenized_texts = [list(tokenize(text)) for text in train_texts]\n",
    "emb_model = word2vec.Word2Vec(tokenized_texts, sg=1, min_count=1, window=3, vector_size=100)"
   ]
  },
  {
   "cell_type": "code",
   "execution_count": 33,
   "id": "989624ac-dc98-461f-a5ad-c28cf27ca085",
   "metadata": {
    "pycharm": {
     "is_executing": true,
     "name": "#%%\n"
    },
    "tags": []
   },
   "outputs": [],
   "source": [
    "# get the word vector for 'love'\n",
    "love_embedding = emb_model.wv['love']"
   ]
  },
  {
   "attachments": {},
   "cell_type": "markdown",
   "id": "8ccd66ea-cbbe-4c1a-a467-5a784facf33b",
   "metadata": {},
   "source": [
    "**TODO 1c:** Find the five most similar words to 'love' according to your word2vec model. You can use the Gensim function `similar_by_word` to do this. How does the Word2Vec top 5 differ from the top 5 comparison words found using the term-document matrix? **(2 marks)**\n",
    "\n",
    "WRITE YOUR ANSWER HERE\n",
    "\n",
    "The results of word2vec are quite different from those of the term-document matrix. The results of term-document matrix are all dummy words with the low cosine similarity, such as ‘you’, 'the', etc. But the results of word2vec are not. Hence, the results of word2vec are more reasonable."
   ]
  },
  {
   "cell_type": "code",
   "execution_count": 34,
   "id": "dc37a093-db74-4e10-9224-0740381b30fe",
   "metadata": {},
   "outputs": [
    {
     "name": "stdout",
     "output_type": "stream",
     "text": [
      "The most similar terms to \"love\" from the list of comparison_word given above are\n"
     ]
    },
    {
     "data": {
      "text/plain": [
       "[('thank', 0.8422207236289978),\n",
       " ('appreciate', 0.8360515832901001),\n",
       " ('Wish', 0.8317209482192993),\n",
       " ('Lol', 0.828848659992218),\n",
       " ('dreams', 0.8234305381774902)]"
      ]
     },
     "execution_count": 34,
     "metadata": {},
     "output_type": "execute_result"
    }
   ],
   "source": [
    "# WRITE YOUR OWN CODE HERE\n",
    "print(f'The most similar terms to \"love\" from the list of comparison_word given above are')\n",
    "emb_model.wv.similar_by_word(word='love', topn=5)"
   ]
  },
  {
   "cell_type": "markdown",
   "id": "eb28de29-ee93-47e9-ba62-de7771d7203d",
   "metadata": {
    "pycharm": {
     "name": "#%% md\n"
    }
   },
   "source": [
    "Above, we trained our own model using the skipgram method. We can also download a pretrained model that has previously been trained on a large corpus. There is a list of models available [here](https://radimrehurek.com/gensim/models/word2vec.html#pretrained-models). Let's try out GLoVe embeddings. GLoVe is an alternative to the skipgram model. This model was trained on a corpus of tweets:"
   ]
  },
  {
   "cell_type": "code",
   "execution_count": 35,
   "id": "693126a6-519a-44c1-b800-773fc95d38df",
   "metadata": {},
   "outputs": [
    {
     "name": "stdout",
     "output_type": "stream",
     "text": [
      "[-0.62645  -0.082389  0.070538  0.5782   -0.87199  -0.14816   2.2315\n",
      "  0.98573  -1.3154   -0.34921  -0.8847    0.14585  -4.97     -0.73369\n",
      " -0.94359   0.035859 -0.026733 -0.77538  -0.30014   0.48853  -0.16678\n",
      " -0.016651 -0.53164   0.64236  -0.10922 ]\n"
     ]
    }
   ],
   "source": [
    "import gensim.downloader\n",
    "\n",
    "glove_wv = gensim.downloader.load('glove-twitter-25')\n",
    "\n",
    "# show the vector for Hamlet:\n",
    "print(glove_wv['love'])"
   ]
  },
  {
   "cell_type": "markdown",
   "id": "dbcbeb21-549d-4315-bce1-e785cda13fd2",
   "metadata": {},
   "source": [
    "TODO 1d: Find the most similar five words to 'happy' according to the GloVe Twitter model. (this task is unmarked)"
   ]
  },
  {
   "cell_type": "code",
   "execution_count": 36,
   "id": "6893470a-08b7-4f44-b5f0-8faddb91ae85",
   "metadata": {},
   "outputs": [
    {
     "data": {
      "text/plain": [
       "[('birthday', 0.9577818512916565),\n",
       " ('thank', 0.937666654586792),\n",
       " ('welcome', 0.9336148500442505),\n",
       " ('love', 0.9176183342933655),\n",
       " ('miss', 0.9164500832557678)]"
      ]
     },
     "execution_count": 36,
     "metadata": {},
     "output_type": "execute_result"
    }
   ],
   "source": [
    "# WRITE YOUR OWN CODE HERE\n",
    "glove_wv.similar_by_word(word='happy', topn=5)"
   ]
  },
  {
   "cell_type": "markdown",
   "id": "bc39168a-7b01-4171-beb2-8a4bf035fd71",
   "metadata": {},
   "source": [
    "Notice again that a different set of words are favoured than with word2vec or term-document vectors, and consider how this might result from pretraining the embeddings on Twitter data."
   ]
  },
  {
   "cell_type": "markdown",
   "id": "421d24e4-d90d-4f50-a167-5f4876076355",
   "metadata": {},
   "source": [
    "# 2. Introducing Neural Text Classifiers (max. 16 marks)\n",
    "\n",
    "This section shows you how to implement a neural network classifier using Pytorch and leads you through the steps required to process text sequences.\n",
    "\n",
    "There are several big advantages to building a text classifier using a neural network:\n",
    "   * It can model nonlinear functions, so can handle much more complex relationships between features and class labels.\n",
    "   * It performs representation learning: the hidden layers learn how to extract features from low-level data.\n",
    "   * It can process sequences of tokens -- we don't have to think in terms of a single feature vector representing a document as we did for logistic regression.\n",
    "  \n",
    "The downsides are:\n",
    "   * Much more expensive to train and test.\n",
    "   * It can overfit very badly to small datasets.\n",
    "   * The features learned by the hidden layers can be hard to interpret, which can make it hard to predict the model's behaviour, e.g., what sort of cases it may fail on.\n",
    "   \n",
    "Let's start by building a neural network text classifier that takes a sequence of tokens as input, and predicts a class label. For simplicity, it will use a single fully connected feedforward layer. "
   ]
  },
  {
   "cell_type": "markdown",
   "id": "9ca4f88e-bd86-4917-8e9d-26ace635873e",
   "metadata": {},
   "source": [
    "\n",
    "We are going to construct the neural network in this form:\n",
    "\n",
    "<img src=\"neural_text_classifier_smaller.png\" alt=\"Neural text classifier diagram\" width=\"600px\"/>\n",
    "\n",
    "The first step -- as always -- is to get our data into the right format. We start from a set of tokenised documents (in this case, tweets), where each document is represented as a sequence of text tokens. The neural network cannot process the tokens as strings, so we need to convert each token to a numerical input value. The input value for each token is used to look up the corresponding embedding in the embedding layer. For PyTorch, it's not necessary to create one-hot vectors for each token, as library just uses the indexes of the words in the vocabulary to look up the corresponding word embedding. \n",
    "\n",
    "So, let's now map the tokens to their IDs -- their indexes in the vocabulary:"
   ]
  },
  {
   "cell_type": "code",
   "execution_count": 37,
   "id": "42a71101-e504-42a8-9862-74796af52cd0",
   "metadata": {
    "collapsed": false,
    "jupyter": {
     "outputs_hidden": false
    },
    "pycharm": {
     "name": "#%%\n"
    }
   },
   "outputs": [
    {
     "data": {
      "application/vnd.jupyter.widget-view+json": {
       "model_id": "83bb16f8e3a74f78b9f6d5d1e4443aa0",
       "version_major": 2,
       "version_minor": 0
      },
      "text/plain": [
       "0ex [00:00, ?ex/s]"
      ]
     },
     "metadata": {},
     "output_type": "display_data"
    },
    {
     "data": {
      "text/plain": [
       "45615"
      ]
     },
     "execution_count": 37,
     "metadata": {},
     "output_type": "execute_result"
    }
   ],
   "source": [
    "# tokenize training set and convert to input IDs.\n",
    "def encode_text(sample):\n",
    "    tokens = tokenize(sample['text'])  # Tokenize one document\n",
    "    \n",
    "    input_ids = []\n",
    "    for token in tokens:\n",
    "        if str.lower(token) in vocab:  # Skip words from the dev/test set that are not in the vocabulary.\n",
    "            input_ids.append(vocab[str.lower(token)]+1) # +1 is needed because we reserve 0 as a special character\n",
    "            \n",
    "    sample['input_ids'] = input_ids \n",
    "    return sample\n",
    "\n",
    "# The map method of the dataset object takes a function as its argument, \n",
    "# and applies that function to each document in the dataset.\n",
    "train_dataset = train_dataset.map(encode_text)\n",
    "len(train_dataset)"
   ]
  },
  {
   "cell_type": "code",
   "execution_count": 38,
   "id": "53d41185",
   "metadata": {},
   "outputs": [
    {
     "data": {
      "text/plain": [
       "array([0, 1, 2])"
      ]
     },
     "execution_count": 38,
     "metadata": {},
     "output_type": "execute_result"
    }
   ],
   "source": [
    "np.unique(train_dataset['label'])"
   ]
  },
  {
   "cell_type": "markdown",
   "id": "c3ce8d8c-ce83-49b7-9b88-b84233be7dbf",
   "metadata": {},
   "source": [
    "Our neural network's input layer has a fixed size, so we need to make all of our documents have the same number of tokens. Let's plot a histogram to understand the length distribution of the texts in the training set:"
   ]
  },
  {
   "cell_type": "code",
   "execution_count": 39,
   "id": "832da949-3fec-4d26-936e-23c943546b68",
   "metadata": {},
   "outputs": [
    {
     "name": "stdout",
     "output_type": "stream",
     "text": [
      "Mean of the document length: 18.160166611860134\n",
      "Median of the document length: 18.0\n",
      "Maximum document length: 32\n"
     ]
    },
    {
     "data": {
      "text/plain": [
       "(array([   21.,   522.,  2430.,  4908.,  7772., 11003., 10389.,  6738.,\n",
       "         1719.,   113.]),\n",
       " array([ 1. ,  4.1,  7.2, 10.3, 13.4, 16.5, 19.6, 22.7, 25.8, 28.9, 32. ]),\n",
       " <BarContainer object of 10 artists>)"
      ]
     },
     "execution_count": 39,
     "metadata": {},
     "output_type": "execute_result"
    },
    {
     "data": {
      "image/png": "[encoded data removed]",
      "text/plain": [
       "<Figure size 640x480 with 1 Axes>"
      ]
     },
     "metadata": {},
     "output_type": "display_data"
    }
   ],
   "source": [
    "import matplotlib.pyplot as plt\n",
    "\n",
    "rv_l = [len(doc) for doc in train_dataset['input_ids']]\n",
    "print('Mean of the document length: {}'.format(np.mean(rv_l)))\n",
    "print('Median of the document length: {}'.format(np.median(rv_l)))\n",
    "print('Maximum document length: {}'.format(np.max(rv_l)))\n",
    "\n",
    "plt.hist(rv_l)"
   ]
  },
  {
   "cell_type": "markdown",
   "id": "da97d92c-7002-4b63-9011-8ed21ea52e95",
   "metadata": {
    "pycharm": {
     "name": "#%% md\n"
    }
   },
   "source": [
    "We now neeed to choose a fixed sequence length, then *pad* the documents that are shorter than this maximum by adding a special token to the start of the sequence. The special pad token has an input value of 0. Any documents that exceed the length will be truncated.\n",
    "\n",
    "**TO-DO 2a:** Complete the padding code below to insert 0s at the start of any sequences that are too short, and to truncate any sequences that are too long. **(3 marks)**"
   ]
  },
  {
   "cell_type": "code",
   "execution_count": 40,
   "id": "a8488dfa-61b8-438e-92ee-7f9b84b27a68",
   "metadata": {
    "tags": []
   },
   "outputs": [
    {
     "data": {
      "application/vnd.jupyter.widget-view+json": {
       "model_id": "e322fff171924f29935e3d832cfcf7c5",
       "version_major": 2,
       "version_minor": 0
      },
      "text/plain": [
       "0ex [00:00, ?ex/s]"
      ]
     },
     "metadata": {},
     "output_type": "display_data"
    }
   ],
   "source": [
    "sequence_length = 40  # truncate all docs longer than this. Pad all docs shorter than this.\n",
    "\n",
    "def pad_text(sample):\n",
    "    ###WRITE YOUR OWN CODE HERE\n",
    "    input_ids = sample['input_ids']\n",
    "\n",
    "    if len(input_ids) > sequence_length:\n",
    "        # for too long sequence \n",
    "        input_ids = input_ids[0:40]     # truncate\n",
    "    else:\n",
    "        # for too short sequence\n",
    "        pad_len = sequence_length - len(input_ids)\n",
    "        pad_ids = np.zeros(shape=[pad_len], dtype=int).tolist()\n",
    "        pad_ids.extend(input_ids)       # padding 0s at start of sequence\n",
    "        input_ids = pad_ids\n",
    "\n",
    "    # check whether the length of processed sequence equal to the value of sequence_length\n",
    "    assert len(input_ids) == sequence_length\n",
    "    sample['input_ids'] = input_ids\n",
    "    ##########\n",
    "    \n",
    "    return sample\n",
    "\n",
    "# The map method will call pad_text for every document in the dataset\n",
    "train_dataset = train_dataset.map(pad_text)"
   ]
  },
  {
   "cell_type": "markdown",
   "id": "28fb33a1-ca74-4a95-bbd5-2b9e50167733",
   "metadata": {},
   "source": [
    "We now have our data in almost the right format! To train a model using PyTorch, we are going to wrap our dataset in a [DataLoader object](https://pytorch.org/docs/stable/data.html#torch.utils.data.DataLoader). This allows the training process to select random subsets of the dataset -- mini-batches -- which it will use for learning with mini-batch stochastic gradient descent."
   ]
  },
  {
   "cell_type": "code",
   "execution_count": 41,
   "id": "4ab3c226-402b-4eb5-8f9a-fe216b4c5da9",
   "metadata": {},
   "outputs": [],
   "source": [
    "from torch.utils.data import DataLoader, TensorDataset\n",
    "\n",
    "batch_size = 64\n",
    "\n",
    "# convert from the Huggingface format to a TensorDataset so we can use the mini-batch sampling functionality\n",
    "def convert_to_data_loader(dataset, num_classes):\n",
    "    # convert from list to tensor\n",
    "    input_tensor = torch.from_numpy(np.array(dataset['input_ids']))\n",
    "    label_tensor = torch.from_numpy(np.array(dataset['label'])).long()\n",
    "    tensor_dataset = TensorDataset(input_tensor, label_tensor)\n",
    "    loader = DataLoader(tensor_dataset, batch_size=batch_size, shuffle=True)\n",
    "\n",
    "    return loader\n",
    "\n",
    "num_classes = len(np.unique(train_labels))   # number of possible labels in the sentiment analysis task\n",
    "\n",
    "train_loader = convert_to_data_loader(train_dataset, num_classes)"
   ]
  },
  {
   "cell_type": "markdown",
   "id": "d1a5825c-4a0e-4fc8-9de6-504bc7227377",
   "metadata": {},
   "source": [
    "Let's process the development and test set as well."
   ]
  },
  {
   "cell_type": "code",
   "execution_count": 42,
   "id": "78aa6ddc-b936-431c-865e-dc55eaf3086c",
   "metadata": {},
   "outputs": [
    {
     "data": {
      "application/vnd.jupyter.widget-view+json": {
       "model_id": "4a632804e7574dfa9a36b3da0b04ba9e",
       "version_major": 2,
       "version_minor": 0
      },
      "text/plain": [
       "0ex [00:00, ?ex/s]"
      ]
     },
     "metadata": {},
     "output_type": "display_data"
    },
    {
     "data": {
      "application/vnd.jupyter.widget-view+json": {
       "model_id": "4ac43262981e4323b78c3f70a0402015",
       "version_major": 2,
       "version_minor": 0
      },
      "text/plain": [
       "0ex [00:00, ?ex/s]"
      ]
     },
     "metadata": {},
     "output_type": "display_data"
    },
    {
     "data": {
      "application/vnd.jupyter.widget-view+json": {
       "model_id": "b0edad1e4e694e509e90bc5ca79f96cd",
       "version_major": 2,
       "version_minor": 0
      },
      "text/plain": [
       "0ex [00:00, ?ex/s]"
      ]
     },
     "metadata": {},
     "output_type": "display_data"
    },
    {
     "data": {
      "application/vnd.jupyter.widget-view+json": {
       "model_id": "8d160f0ac225415ab42c32ef21141bcd",
       "version_major": 2,
       "version_minor": 0
      },
      "text/plain": [
       "0ex [00:00, ?ex/s]"
      ]
     },
     "metadata": {},
     "output_type": "display_data"
    }
   ],
   "source": [
    "dev_dataset = dev_dataset.map(encode_text)\n",
    "dev_dataset = dev_dataset.map(pad_text)\n",
    "dev_loader = convert_to_data_loader(dev_dataset, num_classes)\n",
    "\n",
    "test_dataset = test_dataset.map(encode_text)\n",
    "test_dataset = test_dataset.map(pad_text)\n",
    "test_loader = convert_to_data_loader(test_dataset, num_classes)"
   ]
  },
  {
   "cell_type": "markdown",
   "id": "dd7b857f-5d57-44fd-a1b4-e1b31a009c72",
   "metadata": {},
   "source": [
    "As shown in the diagram above, we will build a NN with three different layers for sentiment classification.\n",
    "\n",
    "### Embedding layer\n",
    "In the embedding layer, the network will create its own embeddings for the index with a given embedding dimension.\n",
    "The module `nn.Embedding()` creates a simple lookup table that stores embeddings of a fixed dictionary and size.\n",
    "This module is often used to store word embeddings and retrieve them using indices.\n",
    "The module's input is a list of indices, and the output is the corresponding word embeddings.\n",
    "\n",
    "[Documentation for Embedding Class](https://pytorch.org/docs/stable/generated/torch.nn.Embedding.html)\n",
    "\n",
    "### Fully-connected layer\n",
    "Fully-connected layers in a neural network are those layers where all the inputs from the previous layer are connected to every unit of the fully-connected layer. Here we will use fully-connected layers for the hidden layer and output layer. In Pytorch this kind of layer is implemented by the 'Linear' class:\n",
    "\n",
    "https://pytorch.org/docs/stable/generated/torch.nn.Linear.html\n",
    "\n",
    "## Activation functions\n",
    "In Pytorch, the activation function is not included in the Linear class (or other kinds of neural network layer), so we need to explicitly connect each layer to an activation function.\n",
    "In Pytorch, we construct a neural network by connecting up the output of each component to the input of the next, thereby creating a computation graph.\n",
    "To complete the hidden layer, we connect the ouput of the linear layer to a ReLU activation function, thereby creating a nonlinear function.\n",
    "\n",
    "The cell below defines a class for our neural text classifier. The constructor creates each of the layers and the activations. The dimensions of each layer need to be correct so that the output of one layer can be passed as input to the next, but the code is not yet complete.\n",
    "\n",
    "Below the constructor is the forward method. This is called in the 'forward pass' to map the neural network's inputs to its outputs. In PyTorch, we pass data through each layer of the model, connecting them together, then returning the output of the final layer.\n",
    "\n",
    "**TO-DO 2b** Complete the constructor and the forward method below for a NN with three layers. The places where you need to add code are marked in the cell below. Refer to the Pytorch documentation for additional help.  **(2 marks)**"
   ]
  },
  {
   "cell_type": "code",
   "execution_count": 43,
   "id": "e38a13cf-4b4d-4ac2-868c-8ad5c1b72b7f",
   "metadata": {},
   "outputs": [],
   "source": [
    "from torch import nn\n",
    "\n",
    "class FFTextClassifier(nn.Module):\n",
    "    \n",
    "    def __init__(self, vocab_size, sequence_length, embedding_size, hidden_size, num_classes):\n",
    "        super(FFTextClassifier, self).__init__()\n",
    "\n",
    "        self.embedding_size = embedding_size\n",
    "\n",
    "        # Here we just need to construct the components of our network. We don't need to connect them together yet.\n",
    "        self.embedding_layer = nn.Embedding(vocab_size, embedding_size) # embedding layer\n",
    "        \n",
    "        ### COMPLETE THE CODE HERE: WRITE IN THE MISSING ARGUMENTS SPECIFYING THE DIMENSIONS OF EACH LAYER\n",
    "        self.hidden_layer = nn.Linear(in_features=embedding_size*sequence_length, out_features=hidden_size) # Fully connected hidden layer\n",
    "        self.activation = nn.ReLU() # Hidden layer\n",
    "        ##########\n",
    "        \n",
    "        self.output_layer = nn.Linear(hidden_size, num_classes) # Fully connected output layer\n",
    "\n",
    "        \n",
    "        \n",
    "    def forward (self, input_words):\n",
    "        # Input dimensions are:  (batch_size, seq_length)\n",
    "        embedded_words = self.embedding_layer(input_words)  # (batch_size, seq_length, embedding_size)\n",
    "\n",
    "        # flatten the sequence of embedding vectors for each document into a single vector.\n",
    "        embedded_words = embedded_words.reshape(embedded_words.shape[0], sequence_length*self.embedding_size)  # batch_size, seq_length*embedding_size\n",
    "\n",
    "        z = self.hidden_layer(embedded_words)   # (batch_size, seq_length, hidden_size)\n",
    "        \n",
    "        ### ADD THE MISSING LINE HERE\n",
    "        h = self.activation(z)  # (batch_size, seq_length, hidden_size)\n",
    "        ########\n",
    "\n",
    "        output = self.output_layer(h)                      # (batch_size, num_classes)\n",
    "\n",
    "        # Notice we haven't applied a softmax activation to the output layer -- it's not required by Pytorch's loss function.\n",
    "\n",
    "        return output"
   ]
  },
  {
   "cell_type": "markdown",
   "id": "a06f22db-b953-4f98-920f-3f9a2b1e3707",
   "metadata": {},
   "source": [
    "Now the class is complete. \n",
    "\n",
    "TO-DO 2c: In the next cell, create a NN with the FFTextClassifier class we wrote. (unmarked)\n",
    "\n",
    "Hint: `ff_classifier_model = FFTextClassifier(...)`"
   ]
  },
  {
   "cell_type": "code",
   "execution_count": 44,
   "id": "a52d795a-adbc-4c48-aadf-f911520ac42c",
   "metadata": {},
   "outputs": [],
   "source": [
    "vocab_size = len(vectorizer.vocabulary_) + 1\n",
    "embedding_size = 10  # number of dimensions for embeddings\n",
    "hidden_size = 8 # number of hidden units\n",
    "\n",
    "###WRITE YOUR OWN CODE HERE\n",
    "ff_classifier_model = FFTextClassifier(vocab_size, sequence_length, embedding_size, hidden_size, num_classes)"
   ]
  },
  {
   "cell_type": "markdown",
   "id": "82a6c48d-f2b4-45e6-838e-d08c895f7e86",
   "metadata": {},
   "source": [
    "After desigining our network, we need to create a training function to calculate the loss for each input and perform backpropagation to optimise the network.\n",
    "During training, the weights of all the layers will be updated.\n",
    "\n",
    "Below, we build a training function to train the NN over a fixed number of epochs (an epoch is one iteration over the whole training dataset).\n",
    "The function also prints the performance of both training and development/validation set after each epoch.\n",
    "\n",
    "Here we use cross-entropy loss, which is the standard loss function for classification that we also used for logistic regression. The module `nn.CrossEntropyLoss()` operates directly on the output of our output layer, so we don't have to implement the softmax layer within the forward() method.\n",
    "\n",
    "Cross Entropy Loss: https://pytorch.org/docs/stable/generated/torch.nn.CrossEntropyLoss.html\n",
    "\n",
    "The optimizer object implements a particular algorithm for updating the weights. Here, we will use the Adam optimizer, which is a variant of stochastic gradient descent method that tends to find a better solution in a smaller number of iterations than standard SGD.\n",
    "\n",
    "Optimization: https://pytorch.org/docs/stable/optim.html\n",
    "\n",
    "The cell below defines a training function for our classifier:"
   ]
  },
  {
   "cell_type": "code",
   "execution_count": 45,
   "id": "2c682c18-b30c-489f-9c22-fb5662fc7960",
   "metadata": {},
   "outputs": [],
   "source": [
    "from torch import optim\n",
    "\n",
    "def train_nn(num_epochs, model, train_dataloader, dev_dataloader):\n",
    "\n",
    "    train_losses_by_epoch = []\n",
    "    dev_losses_by_epoch = []\n",
    "    \n",
    "    learning_rate = 0.0005  # learning rate for the gradient descent optimizer, related to the step size\n",
    "\n",
    "    loss_fn = nn.CrossEntropyLoss()  # create loss function object\n",
    "    optimizer = optim.Adam(model.parameters(), lr=learning_rate)  # create the optimizer\n",
    "        \n",
    "    for e in range(num_epochs):\n",
    "        # Track performance on the training set as we are learning...\n",
    "        total_correct = 0\n",
    "        total_trained = 0\n",
    "        train_losses = []\n",
    "\n",
    "        model.train()  # Put the model in training mode.\n",
    "\n",
    "        for i, (batch_input_ids, batch_labels) in enumerate(train_dataloader):\n",
    "            # Iterate over each batch of data\n",
    "            # print(f'batch no. = {i}')\n",
    "\n",
    "            optimizer.zero_grad()  # Reset the optimizer\n",
    "\n",
    "            # Use the model to perform forward inference on the input data.\n",
    "            # This will run the forward() function.\n",
    "            output = model(batch_input_ids)\n",
    "\n",
    "            # Compute the loss for the current batch of data\n",
    "            batch_loss = loss_fn(output, batch_labels)\n",
    "\n",
    "            # Perform back propagation to compute the gradients with respect to each weight\n",
    "            batch_loss.backward()\n",
    "\n",
    "            # Update the weights using the compute gradients\n",
    "            optimizer.step()\n",
    "\n",
    "            # Record the loss from this sample to keep track of progress.\n",
    "            train_losses.append(batch_loss.item())\n",
    "\n",
    "            # Count correct labels so we can compute accuracy on the training set\n",
    "            predicted_labels = output.argmax(1)\n",
    "            total_correct += (predicted_labels == batch_labels).sum().item()\n",
    "            total_trained += batch_labels.size(0)\n",
    "\n",
    "        train_accuracy = total_correct/total_trained*100\n",
    "\n",
    "        print(\"Epoch: {}/{}\".format((e+1), num_epochs),\n",
    "              \"Training Loss: {:.4f}\".format(np.mean(train_losses)),\n",
    "              \"Training Accuracy: {:.4f}%\".format(train_accuracy))\n",
    "        train_losses_by_epoch.append(np.mean(train_losses))\n",
    "        \n",
    "        # Compute accuracy on dev set after this training epoch\n",
    "        \n",
    "        model.eval()  # Switch model to evaluation mode - turn off any random steps such as dropout\n",
    "        total_correct = 0\n",
    "        total_deved = 0\n",
    "        dev_losses = []\n",
    "\n",
    "        for dev_input_ids, dev_labels in dev_dataloader:            \n",
    "            # Use the model to perform forward inference on the input data.\n",
    "            dev_output = model(dev_input_ids)\n",
    "            # Compute the loss for the current batch of data\n",
    "            dev_losses.append(loss_fn(dev_output, dev_labels).item())\n",
    "            # Count the number of correct predictions\n",
    "            predicted_labels = dev_output.argmax(1)\n",
    "            total_correct += (predicted_labels == dev_labels).sum().item()\n",
    "            total_deved += dev_labels.size(0)\n",
    "            \n",
    "        dev_accuracy = total_correct/total_deved*100\n",
    "        \n",
    "        print(\"Epoch: {}/{}\".format((e+1), num_epochs),\n",
    "              \"Validation Loss: {:.4f}\".format(np.mean(dev_losses)),\n",
    "              \"Validation Accuracy: {:.4f}%\".format(dev_accuracy))\n",
    "        dev_losses_by_epoch.append(np.mean(dev_losses))\n",
    "\n",
    "    return model, train_losses_by_epoch, dev_losses_by_epoch"
   ]
  },
  {
   "attachments": {},
   "cell_type": "markdown",
   "id": "2e473f92-78d4-4a5d-94cc-749165e3896e",
   "metadata": {},
   "source": [
    "**TO-DO 2d:** Modify the training function above to return the training and development (or 'validation') losses at each epoch. Train the network for 15 epochs and plot the losses. Describe what the plot shows, and how you could use this information to improve the training process. **(8 marks)**\n",
    "\n",
    "EXPLAIN YOUR ANSWER HERE\n",
    "\n",
    "There are two line in the line graph. The blue line describe the loss values on the training data. It shows that the training losses decrease with the increase of the training epoch. The orange line describe the loss values on the validation data. It shows that the validation losses decrease before epoch equals to 12 and then begin to fluctuate smoothly. \n",
    "\n",
    "After epochs greater than 12, training losses continue to fall, but validation losses are not falling. This phenomenon indicates that the model starts to over-fit after epoch greater than 12. To ensure the robustness of the model and the efficiency of the training, we can select the model of the 11th epoch as the final model and store it.\n",
    "\n"
   ]
  },
  {
   "cell_type": "code",
   "execution_count": 46,
   "id": "5ac7c289-fae8-4045-b18c-8db7e678214e",
   "metadata": {},
   "outputs": [
    {
     "name": "stdout",
     "output_type": "stream",
     "text": [
      "Epoch: 1/15 Training Loss: 1.0189 Training Accuracy: 44.2990%\n",
      "Epoch: 1/15 Validation Loss: 1.0106 Validation Accuracy: 45.8000%\n",
      "Epoch: 2/15 Training Loss: 1.0018 Training Accuracy: 46.5088%\n",
      "Epoch: 2/15 Validation Loss: 1.0040 Validation Accuracy: 46.7000%\n",
      "Epoch: 3/15 Training Loss: 0.9835 Training Accuracy: 49.0343%\n",
      "Epoch: 3/15 Validation Loss: 0.9845 Validation Accuracy: 49.9000%\n",
      "Epoch: 4/15 Training Loss: 0.9527 Training Accuracy: 52.0004%\n",
      "Epoch: 4/15 Validation Loss: 0.9561 Validation Accuracy: 50.8000%\n",
      "Epoch: 5/15 Training Loss: 0.9179 Training Accuracy: 54.8482%\n",
      "Epoch: 5/15 Validation Loss: 0.9358 Validation Accuracy: 53.8500%\n",
      "Epoch: 6/15 Training Loss: 0.8835 Training Accuracy: 57.3364%\n",
      "Epoch: 6/15 Validation Loss: 0.9165 Validation Accuracy: 55.1000%\n",
      "Epoch: 7/15 Training Loss: 0.8521 Training Accuracy: 59.4673%\n",
      "Epoch: 7/15 Validation Loss: 0.9038 Validation Accuracy: 55.8000%\n",
      "Epoch: 8/15 Training Loss: 0.8235 Training Accuracy: 61.2123%\n",
      "Epoch: 8/15 Validation Loss: 0.8851 Validation Accuracy: 56.7000%\n",
      "Epoch: 9/15 Training Loss: 0.7976 Training Accuracy: 63.1108%\n",
      "Epoch: 9/15 Validation Loss: 0.8791 Validation Accuracy: 58.2500%\n",
      "Epoch: 10/15 Training Loss: 0.7744 Training Accuracy: 64.3999%\n",
      "Epoch: 10/15 Validation Loss: 0.8795 Validation Accuracy: 58.8000%\n",
      "Epoch: 11/15 Training Loss: 0.7519 Training Accuracy: 65.6166%\n",
      "Epoch: 11/15 Validation Loss: 0.8727 Validation Accuracy: 59.0000%\n",
      "Epoch: 12/15 Training Loss: 0.7323 Training Accuracy: 66.7302%\n",
      "Epoch: 12/15 Validation Loss: 0.8710 Validation Accuracy: 59.9500%\n",
      "Epoch: 13/15 Training Loss: 0.7128 Training Accuracy: 67.9645%\n",
      "Epoch: 13/15 Validation Loss: 0.8698 Validation Accuracy: 59.9000%\n",
      "Epoch: 14/15 Training Loss: 0.6941 Training Accuracy: 69.1286%\n",
      "Epoch: 14/15 Validation Loss: 0.8688 Validation Accuracy: 60.1500%\n",
      "Epoch: 15/15 Training Loss: 0.6773 Training Accuracy: 69.9858%\n",
      "Epoch: 15/15 Validation Loss: 0.8654 Validation Accuracy: 61.4000%\n"
     ]
    },
    {
     "data": {
      "text/plain": [
       "<matplotlib.legend.Legend at 0x136498280>"
      ]
     },
     "execution_count": 46,
     "metadata": {},
     "output_type": "execute_result"
    },
    {
     "data": {
      "image/png": "[encoded data removed]",
      "text/plain": [
       "<Figure size 640x480 with 1 Axes>"
      ]
     },
     "metadata": {},
     "output_type": "display_data"
    }
   ],
   "source": [
    "###WRITE YOUR OWN CODE HERE\n",
    "\n",
    "# set the random seed manually to ensure that the experiment are reproducible\n",
    "seed=33\n",
    "torch.manual_seed(seed)\n",
    "\n",
    "epochs = 15\n",
    "trained_model, train_losses_by_epoch, dev_losses_by_epoch = train_nn(num_epochs=epochs,\n",
    "                                                             model=ff_classifier_model,\n",
    "                                                             train_dataloader=train_loader,\n",
    "                                                             dev_dataloader=dev_loader)\n",
    "\n",
    "import matplotlib.pyplot as plt\n",
    "from matplotlib.pyplot import MultipleLocator\n",
    "\n",
    "ax = plt.gca()\n",
    "x_major_locator = MultipleLocator(1)\n",
    "ax.xaxis.set_major_locator(x_major_locator)\n",
    "plt.xlabel('epoch')\n",
    "plt.ylabel('loss value')\n",
    "plt.plot(range(1, epochs+1), train_losses_by_epoch, '-o', label='train_losses')\n",
    "plt.plot(range(1, epochs+1), dev_losses_by_epoch, '-o', label='dev_losses')\n",
    "plt.legend()"
   ]
  },
  {
   "cell_type": "markdown",
   "id": "d655f07b-c687-4d9b-a0b3-44f0d3ccbead",
   "metadata": {},
   "source": [
    "The code below obtains predictions from our neural network:"
   ]
  },
  {
   "cell_type": "code",
   "execution_count": 47,
   "id": "cf4368a8-57fc-4cd3-b74e-aa385105c91a",
   "metadata": {},
   "outputs": [],
   "source": [
    "def predict_nn(trained_model, test_loader):\n",
    "\n",
    "    trained_model.eval()  # switch off some randomisation used during training (dropout) to give consistent predictions\n",
    "\n",
    "    correct = 0  # count the number of correct classification labels\n",
    "\n",
    "    gold_labs = []  # gold labels to return\n",
    "    pred_labs = []  # predicted labels to return\n",
    "    \n",
    "    for inputs, labels in test_loader:\n",
    "        test_output = trained_model(inputs)  # run the forward() function on the inputs\n",
    "        predicted_labels = test_output.argmax(1)  # select the class labels with highest logits as our predictions\n",
    "\n",
    "        gold_labs.extend(labels.tolist())\n",
    "        pred_labs.extend(predicted_labels.tolist())\n",
    "    \n",
    "    return gold_labs, pred_labs\n",
    "\n",
    "gold_labs, pred_labs = predict_nn(trained_model, test_loader)"
   ]
  },
  {
   "cell_type": "markdown",
   "id": "e5620658-9e5a-4248-aa48-3e3868011aaf",
   "metadata": {},
   "source": [
    "Now, we can use pretrained word embeddings instead of learning them from scratch during training.\n",
    "Here, we will use the pretrained GloVe embeddings that we loaded before. The embedding matrix is used to initialise the embedding layer. The code below converts the GloVe embeddings into an embedding matrix suitable for PyTorch:"
   ]
  },
  {
   "cell_type": "code",
   "execution_count": 48,
   "id": "872638e9-f86c-48e4-8745-9c667e250a2b",
   "metadata": {},
   "outputs": [
    {
     "name": "stdout",
     "output_type": "stream",
     "text": [
      "tensor([[ 0.0000,  0.0000,  0.0000,  ...,  0.0000,  0.0000,  0.0000],\n",
      "        [ 0.0000,  0.0000,  0.0000,  ...,  0.0000,  0.0000,  0.0000],\n",
      "        [ 0.0000,  0.0000,  0.0000,  ...,  0.0000,  0.0000,  0.0000],\n",
      "        ...,\n",
      "        [-0.3535,  0.0987,  0.1718,  ...,  0.4630,  1.3101,  1.1314],\n",
      "        [-0.4106,  0.1487,  0.0637,  ...,  0.6097,  1.0935,  0.9614],\n",
      "        [ 0.0000,  0.0000,  0.0000,  ...,  0.0000,  0.0000,  0.0000]])\n"
     ]
    }
   ],
   "source": [
    "embedding_matrix = torch.zeros((vocab_size, glove_wv.vector_size))\n",
    "for word in vocab:\n",
    "    word_idx = vocab[word]\n",
    "    if word in glove_wv:\n",
    "        embedding_matrix[word_idx, :] = torch.from_numpy(glove_wv[word])\n",
    "        \n",
    "print(embedding_matrix)"
   ]
  },
  {
   "cell_type": "markdown",
   "id": "850e7656-343f-449c-9329-411ad7fb22d5",
   "metadata": {},
   "source": [
    "The class below extends the FFTextClassifier class (it's incomplete for now -- you'll fix this in a minute!). This means that it inherits all of its functionality, but we overwrite the constructor (the `__init__` method). This way, we don't need to define the forward function again, as it will be the same as before.\n",
    "\n",
    "The embedding layer is now different as it loads pretrained embeddings from our matrix. The argument `freeze` determines whether the embeddings remain fixed to their pretrained values (if `freeze=True`) or are updated through backpropagation to fit them to the dataset."
   ]
  },
  {
   "cell_type": "code",
   "execution_count": 49,
   "id": "09b93f97-57b9-4d3b-a36f-547d472e1f37",
   "metadata": {
    "pycharm": {
     "name": "#%%\n"
    }
   },
   "outputs": [],
   "source": [
    "class FFTextClassifierWithEmbeddings(FFTextClassifier):\n",
    "\n",
    "    def __init__(self, hidden_size, sequence_length, num_classes, embedding_matrix):\n",
    "        super(FFTextClassifier, self).__init__()\n",
    "\n",
    "        self.embedding_size = embedding_matrix.shape[1] \n",
    "\n",
    "        # Here we just need to construct the components of our network. We don't need to connect them together yet.\n",
    "        self.embedding_layer = nn.Embedding.from_pretrained(embedding_matrix, freeze=True) # embedding layer\n",
    "\n",
    "        ### COMPLETE THE ARGUMENTS TO SPECIFY THE DIMENSIONS OF THE LAYERS\n",
    "        self.hidden_layer = nn.Linear(self.embedding_size*sequence_length, hidden_size) # Hidden layer\n",
    "        self.activation = nn.ReLU() # Hidden layer activation\n",
    "        self.output_layer = nn.Linear(hidden_size, num_classes) # Fully connected layer"
   ]
  },
  {
   "attachments": {},
   "cell_type": "markdown",
   "id": "9eae91af-4e37-476d-ba7d-709924bb329c",
   "metadata": {},
   "source": [
    "**TO-DO 2e:** Complete the arguments in the `FFTextClassifierWithEmbeddings` constructor to set the dimensions of the neural network layers.  Repeat the experiment above using the FFTextClassifierWithEmbeddings with the GLoVe embeddings. Choose a suitable performance metric and compare the performance of the two neural text classifiers. Explain in one or two sentences the possible reason(s) for any performance differences you observe. **(3 marks)**\n",
    "\n",
    "WRITE YOUR ANSWER HERE:\n",
    "\n",
    "In the last cell of session 2, I build text reports showing the main classification metrics for the **FFTextClassifier** and  **FFTextClassifierWithEmbeddings**\n",
    "\n",
    "\n",
    "Due to the uneven distribution of data for each category in the test set, I select weight average F1 score as the performance metric. The specific values, as shown in the table below.\n",
    "\n",
    "Model     | weight avg F1 score\n",
    "-------- | -----\n",
    "FFTextClassifier  | 0.51\n",
    "FFTextClassifierWithEmbeddings  | 0.40\n",
    "\n",
    "It is show that the FFTextClassifier model have a better performance than the FFTextClassifierWithEmbeddings. \n",
    "\n",
    "I think there are two main reasons for this phenomenon. The first is that the original pretrained GloVe embeddings does not fit our dataset, we may need to fine tune it by setting the parameter freeze as False. The second is the the 15th epoch model already overfitted. From the line graph of FFTextClassifierWithEmbeddings, we can observe that the validation losses are increasing after the 9th epoch, although the trainning losses are decreasing. Overfitting can cause the model to perform poorly on unseen data (test set)."
   ]
  },
  {
   "cell_type": "code",
   "execution_count": 50,
   "id": "73d4afd4-a92d-468d-a6ea-e693c10de36d",
   "metadata": {
    "collapsed": false,
    "jupyter": {
     "outputs_hidden": false
    },
    "pycharm": {
     "name": "#%%\n"
    }
   },
   "outputs": [
    {
     "name": "stdout",
     "output_type": "stream",
     "text": [
      "Epoch: 1/15 Training Loss: 1.0156 Training Accuracy: 45.7678%\n",
      "Epoch: 1/15 Validation Loss: 1.0018 Validation Accuracy: 45.5500%\n",
      "Epoch: 2/15 Training Loss: 0.9813 Training Accuracy: 48.7669%\n",
      "Epoch: 2/15 Validation Loss: 0.9933 Validation Accuracy: 47.5000%\n",
      "Epoch: 3/15 Training Loss: 0.9674 Training Accuracy: 49.8454%\n",
      "Epoch: 3/15 Validation Loss: 0.9941 Validation Accuracy: 47.8000%\n",
      "Epoch: 4/15 Training Loss: 0.9605 Training Accuracy: 50.5448%\n",
      "Epoch: 4/15 Validation Loss: 0.9917 Validation Accuracy: 48.6500%\n",
      "Epoch: 5/15 Training Loss: 0.9553 Training Accuracy: 50.8539%\n",
      "Epoch: 5/15 Validation Loss: 0.9883 Validation Accuracy: 48.2000%\n",
      "Epoch: 6/15 Training Loss: 0.9498 Training Accuracy: 51.1871%\n",
      "Epoch: 6/15 Validation Loss: 0.9926 Validation Accuracy: 47.6500%\n",
      "Epoch: 7/15 Training Loss: 0.9447 Training Accuracy: 51.5664%\n",
      "Epoch: 7/15 Validation Loss: 0.9932 Validation Accuracy: 47.5000%\n",
      "Epoch: 8/15 Training Loss: 0.9398 Training Accuracy: 51.9018%\n",
      "Epoch: 8/15 Validation Loss: 0.9929 Validation Accuracy: 47.6000%\n",
      "Epoch: 9/15 Training Loss: 0.9356 Training Accuracy: 52.0728%\n",
      "Epoch: 9/15 Validation Loss: 0.9943 Validation Accuracy: 47.9500%\n",
      "Epoch: 10/15 Training Loss: 0.9318 Training Accuracy: 52.2942%\n",
      "Epoch: 10/15 Validation Loss: 1.0081 Validation Accuracy: 47.7000%\n",
      "Epoch: 11/15 Training Loss: 0.9281 Training Accuracy: 52.5989%\n",
      "Epoch: 11/15 Validation Loss: 1.0015 Validation Accuracy: 47.1000%\n",
      "Epoch: 12/15 Training Loss: 0.9249 Training Accuracy: 52.8313%\n",
      "Epoch: 12/15 Validation Loss: 1.0084 Validation Accuracy: 47.6500%\n",
      "Epoch: 13/15 Training Loss: 0.9221 Training Accuracy: 52.9080%\n",
      "Epoch: 13/15 Validation Loss: 1.0073 Validation Accuracy: 47.0000%\n",
      "Epoch: 14/15 Training Loss: 0.9190 Training Accuracy: 53.3487%\n",
      "Epoch: 14/15 Validation Loss: 1.0117 Validation Accuracy: 47.3500%\n",
      "Epoch: 15/15 Training Loss: 0.9167 Training Accuracy: 53.3289%\n",
      "Epoch: 15/15 Validation Loss: 1.0064 Validation Accuracy: 47.4500%\n"
     ]
    },
    {
     "data": {
      "text/plain": [
       "<matplotlib.legend.Legend at 0x13709cf70>"
      ]
     },
     "execution_count": 50,
     "metadata": {},
     "output_type": "execute_result"
    },
    {
     "data": {
      "image/png": "[encoded data removed]",
      "text/plain": [
       "<Figure size 640x480 with 1 Axes>"
      ]
     },
     "metadata": {},
     "output_type": "display_data"
    }
   ],
   "source": [
    "### WRITE YOUR OWN CODE BELOW\n",
    "vocab_size = len(vectorizer.vocabulary_) + 1\n",
    "hidden_size = 8 # number of hidden units\n",
    "\n",
    "# initialize the classifier\n",
    "ff_classifier_with_embedding_model = FFTextClassifierWithEmbeddings(hidden_size, sequence_length, num_classes, embedding_matrix)\n",
    "\n",
    "# set the random seed manually to ensure that the experiment are reproducible\n",
    "seed=33\n",
    "torch.manual_seed(seed)\n",
    "\n",
    "epochs = 15\n",
    "\n",
    "trained_model_2, train_losses_by_epoch_2, dev_losses_by_epoch_2 = train_nn(num_epochs=epochs,\n",
    "                                                                           model=ff_classifier_with_embedding_model,\n",
    "                                                                           train_dataloader=train_loader,\n",
    "                                                                           dev_dataloader=dev_loader)\n",
    "\n",
    "import matplotlib.pyplot as plt\n",
    "from matplotlib.pyplot import MultipleLocator\n",
    "\n",
    "ax = plt.gca()\n",
    "x_major_locator = MultipleLocator(1)\n",
    "ax.xaxis.set_major_locator(x_major_locator)\n",
    "plt.xlabel('epoch')\n",
    "plt.ylabel('loss value')\n",
    "plt.plot(range(1, epochs+1), train_losses_by_epoch_2, '-o', label='train_losses')\n",
    "plt.plot(range(1, epochs+1), dev_losses_by_epoch_2, '-o', label='dev_losses')\n",
    "plt.legend()"
   ]
  },
  {
   "attachments": {},
   "cell_type": "markdown",
   "id": "017446c2",
   "metadata": {},
   "source": [
    " Use two classifiers trained in the cells above to make predictions on the test set and evaluate the results."
   ]
  },
  {
   "cell_type": "code",
   "execution_count": 51,
   "id": "e5a82fc6",
   "metadata": {},
   "outputs": [
    {
     "name": "stdout",
     "output_type": "stream",
     "text": [
      "A text report for the FFTextClassifier:\n",
      "              precision    recall  f1-score   support\n",
      "\n",
      "           0       0.63      0.24      0.34      3972\n",
      "           1       0.54      0.75      0.63      5937\n",
      "           2       0.46      0.51      0.49      2375\n",
      "\n",
      "    accuracy                           0.54     12284\n",
      "   macro avg       0.55      0.50      0.49     12284\n",
      "weighted avg       0.56      0.54      0.51     12284\n",
      "\n",
      "A text report for the FFTextClassifierWithEmbeddings:\n",
      "              precision    recall  f1-score   support\n",
      "\n",
      "           0       0.55      0.11      0.18      3972\n",
      "           1       0.50      0.66      0.57      5937\n",
      "           2       0.29      0.44      0.35      2375\n",
      "\n",
      "    accuracy                           0.44     12284\n",
      "   macro avg       0.45      0.40      0.36     12284\n",
      "weighted avg       0.47      0.44      0.40     12284\n",
      "\n"
     ]
    }
   ],
   "source": [
    "from sklearn.metrics import classification_report\n",
    "\n",
    "# Build a text report showing the main classification metrics\n",
    "# FFTextClassifier\n",
    "print(f'A text report for the FFTextClassifier:')\n",
    "print(classification_report(y_true=gold_labs, y_pred=pred_labs))\n",
    "\n",
    "# FFTextClassifierWithEmbeddings\n",
    "gold_labs_2, pred_labs_2 = predict_nn(trained_model_2, test_loader)\n",
    "print(f'A text report for the FFTextClassifierWithEmbeddings:')\n",
    "print(classification_report(y_true=gold_labs_2, y_pred=pred_labs_2))"
   ]
  },
  {
   "attachments": {},
   "cell_type": "markdown",
   "id": "9b3c20d5-12c8-4820-89e2-e53c11b77b42",
   "metadata": {},
   "source": [
    "# 3. Improving the Neural Text Classifier (max. 22 marks)\n",
    "\n",
    "This section allows you some more free reign to experiment with the neural text classifier. Below, we list several to-dos that you can solve in your own way. Please make sure to label your notebook cells clearly so that it is obvious which to-do each cell corresponds to.\n",
    "\n",
    "**TO-DO 3a:** Consider the neural text classifiers we have just implemented and the results you obtained in the last to-do. The classifiers have a number of limitations that we could improve. Describe three limitations and how you could improve them. For each improvement you propose, provide a brief explanation (up to 1 paragraph) of how it works. \n",
    "\n",
    "Hint: refer to the lectures for some ideas. **(9 marks)**\n",
    "\n",
    "WRITE YOUR ANSWER HERE:\n",
    "\n",
    "1. Fine tune the pretrained GloVe Embeddings\n",
    "> In the block TO-DO 2e, I analysed the reasons for the poor performance of model FFTextClassifierWithEmbeddings, not fine-tuned and overfitted. In this part, I will train a new model to remove these tow limitations. Firstly, I define a new model structure that the pretrained GloVe Embeddings can be fine tune in the train phase. Secondly, I plot a line graph to describe the trainning losses and validation losses for each epoch from 0 to max_epoch, and then select the optimal epoch, in where the validation loss is minimum. Thirdly, I use the optimal epoch to train the final model, which avoids over-fitting. The performance of the final model is then evaluated.\n",
    "\n",
    "2. Text Classifier based on the Recurrent Neural Networks (RNN)\n",
    "> The hidden layer of FFTextClassifierWithEmbeddings is a fully connected layer. In this feedforward network, different weights are applied to each input position and all data must be passed in at once, which makes learning harder and scalability trickier. In order to remove this limitaions, we can use a bidirectional Recurrent Neurak Network (Bi-RNN) layer to be the hidden layer instead of fully connectted layer. In this model, the tokens in the text sequence are fed into the RNN one by one. And the last hidden state is taken as a representation of the whole sequence.\n",
    "\n",
    "3. Text Classifier based on the LSTM\n",
    "> In this part, I use a Bi-LSTM layer as the hidden layer of the text classifier. The LSTM redesigns the standard RNN. It introduces a memory cell to store context in addition to the hidden layer, which removes the limitation of RNN that cannot recognise long-distance information due to vanishing gradients.\n",
    "\n",
    "---\n",
    "\n",
    "**TO-DO 3b:** Implement your improvements and compute the performance of your method. Make sure to comment your code to show where each new step is implemented. Use the validation set for any tuning you decide to do. Present your results clearly. **(13 marks)**\n",
    "\n"
   ]
  },
  {
   "attachments": {},
   "cell_type": "markdown",
   "id": "03ceb8a5",
   "metadata": {},
   "source": [
    "## 3b-1  Fine tune the pretrained GloVe Embeddings"
   ]
  },
  {
   "attachments": {},
   "cell_type": "markdown",
   "id": "ed4a4e1b",
   "metadata": {},
   "source": [
    "Define a new model structure that the pretrained GloVe Embeddings can be fine tune in the train phase."
   ]
  },
  {
   "cell_type": "code",
   "execution_count": 52,
   "id": "e99e0d0d-ac93-4f7b-8169-c81f6b151eed",
   "metadata": {},
   "outputs": [],
   "source": [
    "# Define the model structure for FFTextClassifierWithFineTuneEmbeddings,\n",
    "# which is similar with the FFTextClassifierWithEmbeddings, but its parameter \"freeze\"\n",
    "# of the embedding_layer is setted as \"False\". So the pretrained GloVe Embeddings can\n",
    "# be fine tune in the trainning phase.\n",
    "\n",
    "class FFTextClassifierWithFineTuneEmbeddings(FFTextClassifier):\n",
    "\n",
    "    def __init__(self, hidden_size, sequence_length, num_classes, embedding_matrix):\n",
    "        super(FFTextClassifier, self).__init__()\n",
    "\n",
    "        self.embedding_size = embedding_matrix.shape[1] \n",
    "\n",
    "        # Here we just need to construct the components of our network. We don't need to connect them together yet.\n",
    "        self.embedding_layer = nn.Embedding.from_pretrained(embedding_matrix, freeze=False) # embedding layer with the unfrozen parameters\n",
    "\n",
    "        ### COMPLETE THE ARGUMENTS TO SPECIFY THE DIMENSIONS OF THE LAYERS\n",
    "        self.hidden_layer = nn.Linear(self.embedding_size*sequence_length, hidden_size) # Hidden layer\n",
    "        self.activation = nn.ReLU() # Hidden layer activation\n",
    "        self.output_layer = nn.Linear(hidden_size, num_classes) # Fully connected layer"
   ]
  },
  {
   "attachments": {},
   "cell_type": "markdown",
   "id": "a0845f3a",
   "metadata": {},
   "source": [
    "Set epochs as 15 to train the model defined in the cell above. And then plot a line graph to describe the trainning losses and the validation losses for each epoch."
   ]
  },
  {
   "cell_type": "code",
   "execution_count": 53,
   "id": "2aad9962",
   "metadata": {},
   "outputs": [
    {
     "name": "stdout",
     "output_type": "stream",
     "text": [
      "Epoch: 1/15 Training Loss: 0.9988 Training Accuracy: 46.8508%\n",
      "Epoch: 1/15 Validation Loss: 0.9658 Validation Accuracy: 49.8500%\n",
      "Epoch: 2/15 Training Loss: 0.8996 Training Accuracy: 55.8676%\n",
      "Epoch: 2/15 Validation Loss: 0.9050 Validation Accuracy: 55.3000%\n",
      "Epoch: 3/15 Training Loss: 0.8165 Training Accuracy: 61.7319%\n",
      "Epoch: 3/15 Validation Loss: 0.8633 Validation Accuracy: 58.7500%\n",
      "Epoch: 4/15 Training Loss: 0.7521 Training Accuracy: 65.4894%\n",
      "Epoch: 4/15 Validation Loss: 0.8429 Validation Accuracy: 60.8500%\n",
      "Epoch: 5/15 Training Loss: 0.6979 Training Accuracy: 68.7164%\n",
      "Epoch: 5/15 Validation Loss: 0.8297 Validation Accuracy: 62.1500%\n",
      "Epoch: 6/15 Training Loss: 0.6491 Training Accuracy: 71.4984%\n",
      "Epoch: 6/15 Validation Loss: 0.8368 Validation Accuracy: 63.1000%\n",
      "Epoch: 7/15 Training Loss: 0.6034 Training Accuracy: 73.9713%\n",
      "Epoch: 7/15 Validation Loss: 0.8472 Validation Accuracy: 62.2500%\n",
      "Epoch: 8/15 Training Loss: 0.5609 Training Accuracy: 76.1438%\n",
      "Epoch: 8/15 Validation Loss: 0.8600 Validation Accuracy: 63.5000%\n",
      "Epoch: 9/15 Training Loss: 0.5214 Training Accuracy: 78.2615%\n",
      "Epoch: 9/15 Validation Loss: 0.8766 Validation Accuracy: 63.5500%\n",
      "Epoch: 10/15 Training Loss: 0.4826 Training Accuracy: 80.2850%\n",
      "Epoch: 10/15 Validation Loss: 0.9155 Validation Accuracy: 63.3000%\n",
      "Epoch: 11/15 Training Loss: 0.4460 Training Accuracy: 82.0147%\n",
      "Epoch: 11/15 Validation Loss: 0.9424 Validation Accuracy: 62.2000%\n",
      "Epoch: 12/15 Training Loss: 0.4117 Training Accuracy: 83.8189%\n",
      "Epoch: 12/15 Validation Loss: 0.9886 Validation Accuracy: 62.7000%\n",
      "Epoch: 13/15 Training Loss: 0.3778 Training Accuracy: 85.3382%\n",
      "Epoch: 13/15 Validation Loss: 1.0353 Validation Accuracy: 62.1000%\n",
      "Epoch: 14/15 Training Loss: 0.3461 Training Accuracy: 86.9056%\n",
      "Epoch: 14/15 Validation Loss: 1.0729 Validation Accuracy: 61.8000%\n",
      "Epoch: 15/15 Training Loss: 0.3162 Training Accuracy: 88.1815%\n",
      "Epoch: 15/15 Validation Loss: 1.1225 Validation Accuracy: 61.5500%\n"
     ]
    },
    {
     "data": {
      "text/plain": [
       "<matplotlib.legend.Legend at 0x155d64f40>"
      ]
     },
     "execution_count": 53,
     "metadata": {},
     "output_type": "execute_result"
    },
    {
     "data": {
      "image/png": "[encoded data removed]",
      "text/plain": [
       "<Figure size 640x480 with 1 Axes>"
      ]
     },
     "metadata": {},
     "output_type": "display_data"
    }
   ],
   "source": [
    "# Obtain the embedding matrix from the pretrained GloVe embeddings,\n",
    "# which will be used to initialize the embedding_layer of the classifier model\n",
    "embedding_matrix = torch.zeros((vocab_size, glove_wv.vector_size))\n",
    "for word in vocab:\n",
    "    word_idx = vocab[word]\n",
    "    if word in glove_wv:\n",
    "        embedding_matrix[word_idx, :] = torch.from_numpy(glove_wv[word])\n",
    "\n",
    "# number of hidden units\n",
    "hidden_size = 8 \n",
    "# initialize the classifier\n",
    "ff_classifier_with_fine_tune_embedding_model = FFTextClassifierWithFineTuneEmbeddings(hidden_size, sequence_length, num_classes, embedding_matrix)\n",
    "# set the random seed manually to ensure that the experiment are reproducible\n",
    "seed=33\n",
    "torch.manual_seed(seed)\n",
    "\n",
    "# train model\n",
    "epochs = 15\n",
    "trained_model, train_losses_by_epoch, dev_losses_by_epoch = train_nn(num_epochs=epochs,\n",
    "                                                                     model=ff_classifier_with_fine_tune_embedding_model,\n",
    "                                                                     train_dataloader=train_loader,\n",
    "                                                                     dev_dataloader=dev_loader)\n",
    "\n",
    "# plot a line graph to describe the trainning losses and validation losses\n",
    "ax = plt.gca()\n",
    "x_major_locator = MultipleLocator(1)\n",
    "ax.xaxis.set_major_locator(x_major_locator)\n",
    "plt.xlabel('epoch')\n",
    "plt.ylabel('loss value')\n",
    "plt.plot(range(1, epochs+1), train_losses_by_epoch, '-o', label='train_losses')\n",
    "plt.plot(range(1, epochs+1), dev_losses_by_epoch, '-o', label='dev_losses')\n",
    "plt.legend()"
   ]
  },
  {
   "attachments": {},
   "cell_type": "markdown",
   "id": "92349624",
   "metadata": {},
   "source": [
    "Based on the line graph plotted in the cell above, I observe that optimal epoch is 5, in where the validation losses is minimum. In the next cell, I train a new model with the optimal epoch and then use this model to make prediction on the test set. Finally, to build a text report showing the main classification metrics."
   ]
  },
  {
   "cell_type": "code",
   "execution_count": 63,
   "id": "bd5d3f45",
   "metadata": {},
   "outputs": [
    {
     "name": "stdout",
     "output_type": "stream",
     "text": [
      "Epoch: 1/5 Training Loss: 0.9967 Training Accuracy: 48.5476%\n",
      "Epoch: 1/5 Validation Loss: 0.9636 Validation Accuracy: 51.9500%\n",
      "Epoch: 2/5 Training Loss: 0.8963 Training Accuracy: 56.6831%\n",
      "Epoch: 2/5 Validation Loss: 0.9044 Validation Accuracy: 54.8500%\n",
      "Epoch: 3/5 Training Loss: 0.8110 Training Accuracy: 62.2010%\n",
      "Epoch: 3/5 Validation Loss: 0.8637 Validation Accuracy: 59.3000%\n",
      "Epoch: 4/5 Training Loss: 0.7475 Training Accuracy: 65.9169%\n",
      "Epoch: 4/5 Validation Loss: 0.8432 Validation Accuracy: 59.8000%\n",
      "Epoch: 5/5 Training Loss: 0.6943 Training Accuracy: 68.9400%\n",
      "Epoch: 5/5 Validation Loss: 0.8295 Validation Accuracy: 61.5500%\n",
      "A text report for the FFTextClassifierWithEmbeddings:\n",
      "              precision    recall  f1-score   support\n",
      "\n",
      "           0       0.61      0.38      0.47      3972\n",
      "           1       0.58      0.69      0.63      5937\n",
      "           2       0.50      0.58      0.54      2375\n",
      "\n",
      "    accuracy                           0.57     12284\n",
      "   macro avg       0.56      0.55      0.55     12284\n",
      "weighted avg       0.57      0.57      0.56     12284\n",
      "\n"
     ]
    }
   ],
   "source": [
    "# Obtain the embedding matrix from the pretrained GloVe embeddings,\n",
    "# which will be used to initialize the embedding_layer of the classifier model\n",
    "embedding_matrix = torch.zeros((vocab_size, glove_wv.vector_size))\n",
    "for word in vocab:\n",
    "    word_idx = vocab[word]\n",
    "    if word in glove_wv:\n",
    "        embedding_matrix[word_idx, :] = torch.from_numpy(glove_wv[word])\n",
    "\n",
    "# number of hidden units\n",
    "hidden_size = 8 \n",
    "# initialize the classifier\n",
    "ff_classifier_with_fine_tune_embedding_model = FFTextClassifierWithFineTuneEmbeddings(hidden_size, sequence_length, num_classes, embedding_matrix)\n",
    "# set the random seed manually to ensure that the experiment are reproducible\n",
    "seed=33\n",
    "torch.manual_seed(seed)\n",
    "\n",
    "# train model\n",
    "epochs = 5  # optimal epoch\n",
    "trained_model, train_losses_by_epoch, dev_losses_by_epoch = train_nn(num_epochs=epochs,\n",
    "                                                                     model=ff_classifier_with_fine_tune_embedding_model,\n",
    "                                                                     train_dataloader=train_loader,\n",
    "                                                                     dev_dataloader=dev_loader)\n",
    "# make predictions\n",
    "gold_labs, pred_labs = predict_nn(trained_model, test_loader)\n",
    "# print a text report showing the main classification metrics\n",
    "print(f'A text report for the FFTextClassifierWithEmbeddings:')\n",
    "print(classification_report(y_true=gold_labs, y_pred=pred_labs))"
   ]
  },
  {
   "attachments": {},
   "cell_type": "markdown",
   "id": "94e33ec6",
   "metadata": {},
   "source": [
    "## 3b-2 Text Classifier based on the Recurrent Neural Networks (RNN)"
   ]
  },
  {
   "attachments": {},
   "cell_type": "markdown",
   "id": "5fc506cd",
   "metadata": {},
   "source": [
    "Define the model structure for RNNTextClassifierWithFineTuneEmbeddings, whose hidden layer consists of an bidirectional RNN layer."
   ]
  },
  {
   "cell_type": "code",
   "execution_count": 60,
   "id": "151b4b55",
   "metadata": {},
   "outputs": [],
   "source": [
    "from torch import nn\n",
    "\n",
    "class RNNTextClassifierWithFineTuneEmbeddings(nn.Module):\n",
    "    \n",
    "    def __init__(self, hidden_size, num_classes, embedding_matrix, isBidirectional=True):\n",
    "        super(RNNTextClassifierWithFineTuneEmbeddings, self).__init__()\n",
    "\n",
    "        self.embedding_size = embedding_matrix.shape[1] \n",
    "\n",
    "        # embedding layer initialized by pretrained GloVe embeddings\n",
    "        # the parameters in the embedding layer is unfrozen\n",
    "        self.embedding_layer = nn.Embedding.from_pretrained(embedding_matrix, freeze=False) \n",
    "        \n",
    "        # import a bi-RNN layer as the hidden layer\n",
    "        self.rnn = nn.RNN(input_size=self.embedding_size, \n",
    "                          hidden_size=hidden_size, \n",
    "                          num_layers=1,\n",
    "                          batch_first=True, # the shape of input is (batch, sequence length, H_in)\n",
    "                          bidirectional=isBidirectional)\n",
    "        \n",
    "        # fully connected output layer\n",
    "        if isBidirectional:\n",
    "            # because of the bidirectional RNN, the input size of output_layer is twice of hidden_size\n",
    "            self.output_layer = nn.Linear(hidden_size*2, num_classes)\n",
    "        else:\n",
    "            self.output_layer = nn.Linear(hidden_size, num_classes)\n",
    "  \n",
    "        \n",
    "    def forward (self, input_words):\n",
    "        # Input dimensions are:  (batch_size, seq_length)\n",
    "        embedded_words = self.embedding_layer(input_words)  # (batch_size, seq_length, embedding_size)\n",
    "        \n",
    "        # not provide the initial value of h_0, default it is zero\n",
    "        z, _ = self.rnn(input=embedded_words)               # (batch_size, seq_length, hidden_size*2)\n",
    "        \n",
    "        # the output of the last token for each sequence are used to represent the whole sequence\n",
    "        output = self.output_layer(z[:, -1, :])             # (batch_size, num_classes)\n",
    "        \n",
    "        # Notice we haven't applied a softmax activation to the output layer -- it's not required by Pytorch's loss function.\n",
    "        return output"
   ]
  },
  {
   "cell_type": "markdown",
   "id": "d659a5e4",
   "metadata": {},
   "source": [
    "Set epochs as 15 to train the model defined in the cell above. And then plot a line graph to describe the trainning losses and the validation losses for each epoch."
   ]
  },
  {
   "cell_type": "code",
   "execution_count": 61,
   "id": "c7909c05",
   "metadata": {},
   "outputs": [
    {
     "name": "stdout",
     "output_type": "stream",
     "text": [
      "Epoch: 1/15 Training Loss: 1.0427 Training Accuracy: 43.4221%\n",
      "Epoch: 1/15 Validation Loss: 1.0171 Validation Accuracy: 44.9500%\n",
      "Epoch: 2/15 Training Loss: 0.9968 Training Accuracy: 48.9247%\n",
      "Epoch: 2/15 Validation Loss: 0.9917 Validation Accuracy: 50.2500%\n",
      "Epoch: 3/15 Training Loss: 0.9309 Training Accuracy: 54.5917%\n",
      "Epoch: 3/15 Validation Loss: 0.9333 Validation Accuracy: 55.3500%\n",
      "Epoch: 4/15 Training Loss: 0.8582 Training Accuracy: 60.0570%\n",
      "Epoch: 4/15 Validation Loss: 0.8972 Validation Accuracy: 58.7500%\n",
      "Epoch: 5/15 Training Loss: 0.7967 Training Accuracy: 63.9724%\n",
      "Epoch: 5/15 Validation Loss: 0.8659 Validation Accuracy: 60.8000%\n",
      "Epoch: 6/15 Training Loss: 0.7443 Training Accuracy: 67.1248%\n",
      "Epoch: 6/15 Validation Loss: 0.8643 Validation Accuracy: 61.5500%\n",
      "Epoch: 7/15 Training Loss: 0.6965 Training Accuracy: 69.8301%\n",
      "Epoch: 7/15 Validation Loss: 0.8633 Validation Accuracy: 61.7500%\n",
      "Epoch: 8/15 Training Loss: 0.6528 Training Accuracy: 72.3731%\n",
      "Epoch: 8/15 Validation Loss: 0.8753 Validation Accuracy: 61.6500%\n",
      "Epoch: 9/15 Training Loss: 0.6100 Training Accuracy: 74.8131%\n",
      "Epoch: 9/15 Validation Loss: 0.8735 Validation Accuracy: 63.0000%\n",
      "Epoch: 10/15 Training Loss: 0.5728 Training Accuracy: 76.6173%\n",
      "Epoch: 10/15 Validation Loss: 0.9003 Validation Accuracy: 62.3500%\n",
      "Epoch: 11/15 Training Loss: 0.5354 Training Accuracy: 78.6167%\n",
      "Epoch: 11/15 Validation Loss: 0.9257 Validation Accuracy: 62.8500%\n",
      "Epoch: 12/15 Training Loss: 0.5020 Training Accuracy: 80.3508%\n",
      "Epoch: 12/15 Validation Loss: 0.9726 Validation Accuracy: 61.1000%\n",
      "Epoch: 13/15 Training Loss: 0.4725 Training Accuracy: 81.8547%\n",
      "Epoch: 13/15 Validation Loss: 1.0089 Validation Accuracy: 62.4000%\n",
      "Epoch: 14/15 Training Loss: 0.4439 Training Accuracy: 83.2445%\n",
      "Epoch: 14/15 Validation Loss: 1.0391 Validation Accuracy: 62.5000%\n",
      "Epoch: 15/15 Training Loss: 0.4183 Training Accuracy: 84.4240%\n",
      "Epoch: 15/15 Validation Loss: 1.0601 Validation Accuracy: 61.1500%\n"
     ]
    },
    {
     "data": {
      "text/plain": [
       "<matplotlib.legend.Legend at 0x154d1c400>"
      ]
     },
     "execution_count": 61,
     "metadata": {},
     "output_type": "execute_result"
    },
    {
     "data": {
      "image/png": "[encoded data removed]",
      "text/plain": [
       "<Figure size 640x480 with 1 Axes>"
      ]
     },
     "metadata": {},
     "output_type": "display_data"
    }
   ],
   "source": [
    "import torch\n",
    "\n",
    "# Obtain the embedding matrix from the pretrained GloVe embeddings,\n",
    "# which will be used to initialize the embedding_layer of the classifier model\n",
    "embedding_matrix = torch.zeros((vocab_size, glove_wv.vector_size))\n",
    "for word in vocab:\n",
    "    word_idx = vocab[word]\n",
    "    if word in glove_wv:\n",
    "        embedding_matrix[word_idx, :] = torch.from_numpy(glove_wv[word])\n",
    "\n",
    "# number of hidden units\n",
    "hidden_size = 8 \n",
    "# initialize the classifier\n",
    "rnn_classifier_with_fine_tune_embedding_model = RNNTextClassifierWithFineTuneEmbeddings(hidden_size, num_classes, embedding_matrix)\n",
    "# set the random seed manually to ensure that the experiment are reproducible\n",
    "seed=33\n",
    "torch.manual_seed(seed)\n",
    "\n",
    "# train model\n",
    "epochs = 15\n",
    "trained_model, train_losses_by_epoch, dev_losses_by_epoch = train_nn(num_epochs=epochs,\n",
    "                                                                     model=rnn_classifier_with_fine_tune_embedding_model,\n",
    "                                                                     train_dataloader=train_loader,\n",
    "                                                                     dev_dataloader=dev_loader)\n",
    "\n",
    "# plot a line graph to describe the trainning losses and validation losses\n",
    "ax = plt.gca()\n",
    "x_major_locator = MultipleLocator(1)\n",
    "ax.xaxis.set_major_locator(x_major_locator)\n",
    "plt.xlabel('epoch')\n",
    "plt.ylabel('loss value')\n",
    "plt.plot(range(1, epochs+1), train_losses_by_epoch, '-o', label='train_losses')\n",
    "plt.plot(range(1, epochs+1), dev_losses_by_epoch, '-o', label='dev_losses')\n",
    "plt.legend()"
   ]
  },
  {
   "attachments": {},
   "cell_type": "markdown",
   "id": "682a1c00",
   "metadata": {},
   "source": [
    "Based on the line graph plotted in the cell above, I observe that optimal epoch is 9, in where the validation losses is minimum. In the next cell, I train a new model with the optimal epoch and then use this model to make prediction on the test set. Finally, to build a text report showing the main classification metrics."
   ]
  },
  {
   "cell_type": "code",
   "execution_count": 62,
   "id": "94471693",
   "metadata": {},
   "outputs": [
    {
     "name": "stdout",
     "output_type": "stream",
     "text": [
      "Epoch: 1/9 Training Loss: 1.0172 Training Accuracy: 45.4719%\n",
      "Epoch: 1/9 Validation Loss: 1.0133 Validation Accuracy: 45.0000%\n",
      "Epoch: 2/9 Training Loss: 0.9924 Training Accuracy: 47.9338%\n",
      "Epoch: 2/9 Validation Loss: 0.9895 Validation Accuracy: 48.6500%\n",
      "Epoch: 3/9 Training Loss: 0.9380 Training Accuracy: 51.6124%\n",
      "Epoch: 3/9 Validation Loss: 0.9524 Validation Accuracy: 50.5000%\n",
      "Epoch: 4/9 Training Loss: 0.8888 Training Accuracy: 54.9446%\n",
      "Epoch: 4/9 Validation Loss: 0.9386 Validation Accuracy: 53.0000%\n",
      "Epoch: 5/9 Training Loss: 0.8438 Training Accuracy: 58.5991%\n",
      "Epoch: 5/9 Validation Loss: 0.9100 Validation Accuracy: 54.8000%\n",
      "Epoch: 6/9 Training Loss: 0.7965 Training Accuracy: 62.2624%\n",
      "Epoch: 6/9 Validation Loss: 0.9003 Validation Accuracy: 55.8500%\n",
      "Epoch: 7/9 Training Loss: 0.7477 Training Accuracy: 65.5420%\n",
      "Epoch: 7/9 Validation Loss: 0.8872 Validation Accuracy: 58.4000%\n",
      "Epoch: 8/9 Training Loss: 0.6992 Training Accuracy: 69.0694%\n",
      "Epoch: 8/9 Validation Loss: 0.8760 Validation Accuracy: 59.4500%\n",
      "Epoch: 9/9 Training Loss: 0.6506 Training Accuracy: 72.0772%\n",
      "Epoch: 9/9 Validation Loss: 0.8724 Validation Accuracy: 60.7500%\n",
      "A text report for the FFTextClassifierWithEmbeddings:\n",
      "              precision    recall  f1-score   support\n",
      "\n",
      "           0       0.60      0.36      0.45      3972\n",
      "           1       0.55      0.67      0.60      5937\n",
      "           2       0.48      0.54      0.51      2375\n",
      "\n",
      "    accuracy                           0.54     12284\n",
      "   macro avg       0.54      0.52      0.52     12284\n",
      "weighted avg       0.55      0.54      0.54     12284\n",
      "\n"
     ]
    }
   ],
   "source": [
    "# Obtain the embedding matrix from the pretrained GloVe embeddings,\n",
    "# which will be used to initialize the embedding_layer of the classifier model\n",
    "embedding_matrix = torch.zeros((vocab_size, glove_wv.vector_size))\n",
    "for word in vocab:\n",
    "    word_idx = vocab[word]\n",
    "    if word in glove_wv:\n",
    "        embedding_matrix[word_idx, :] = torch.from_numpy(glove_wv[word])\n",
    "\n",
    "# number of hidden units\n",
    "hidden_size = 8\n",
    "# initialize the classifier\n",
    "rnn_classifier_with_fine_tune_embedding_model = RNNTextClassifierWithFineTuneEmbeddings(hidden_size, num_classes, embedding_matrix)\n",
    "# set the random seed manually to ensure that the experiment are reproducible\n",
    "seed=33\n",
    "torch.manual_seed(seed)\n",
    "\n",
    "# train model\n",
    "epochs = 9  # optimal epoch\n",
    "trained_model, train_losses_by_epoch, dev_losses_by_epoch = train_nn(num_epochs=epochs,\n",
    "                                                                     model=rnn_classifier_with_fine_tune_embedding_model,\n",
    "                                                                     train_dataloader=train_loader,\n",
    "                                                                     dev_dataloader=dev_loader)\n",
    "# make predictions\n",
    "gold_labs, pred_labs = predict_nn(trained_model, test_loader)\n",
    "# print a text report showing the main classification metrics\n",
    "print(f'A text report for the FFTextClassifierWithEmbeddings:')\n",
    "print(classification_report(y_true=gold_labs, y_pred=pred_labs))"
   ]
  },
  {
   "cell_type": "markdown",
   "id": "e44cbec8",
   "metadata": {},
   "source": [
    "## 3b-3 Text Classifier based on the LSTM"
   ]
  },
  {
   "attachments": {},
   "cell_type": "markdown",
   "id": "b530f3f5",
   "metadata": {},
   "source": [
    "Define the model structure for LSTMTextClassifierWithFineTuneEmbeddings, whose hidden layer consists of an bidirectional LSTM layer."
   ]
  },
  {
   "cell_type": "code",
   "execution_count": 64,
   "id": "e16ed9d5",
   "metadata": {},
   "outputs": [],
   "source": [
    "from torch import nn\n",
    "\n",
    "class LSTMTextClassifierWithFineTuneEmbeddings(nn.Module):\n",
    "    \n",
    "    def __init__(self, hidden_size, num_classes, embedding_matrix, isBidirectional=True):\n",
    "        super(LSTMTextClassifierWithFineTuneEmbeddings, self).__init__()\n",
    "\n",
    "        self.embedding_size = embedding_matrix.shape[1] \n",
    "\n",
    "        # embedding layer initialized by pretrained GloVe embeddings\n",
    "        # the parameters in the embedding layer is unfrozen\n",
    "        self.embedding_layer = nn.Embedding.from_pretrained(embedding_matrix, freeze=False)\n",
    "        \n",
    "        # import a bid-LSTM layer as the hidden layer\n",
    "        self.lstm = nn.LSTM(input_size=self.embedding_size, \n",
    "                                   hidden_size=hidden_size, \n",
    "                                   num_layers=1,\n",
    "                                   batch_first=True,    # the shape of input is (batch, sequence length, H_in)\n",
    "                                   bidirectional=isBidirectional)\n",
    "        \n",
    "        # fully connected output layer\n",
    "        if isBidirectional:\n",
    "            # because of the bidirectional LSTM, the input size of output_layer is twice of hidden_size\n",
    "            self.output_layer = nn.Linear(hidden_size*2, num_classes)\n",
    "        else:\n",
    "            self.output_layer = nn.Linear(hidden_size, num_classes)\n",
    "\n",
    "\n",
    "        \n",
    "        \n",
    "    def forward (self, input_words):\n",
    "        # Input dimensions are:  (batch_size, seq_length)\n",
    "        embedded_words = self.embedding_layer(input_words)  # (batch_size, seq_length, embedding_size)\n",
    "\n",
    "        # not provide the initial value of h_0 and c_0, default they are zeros\n",
    "        z, _ = self.lstm(input=embedded_words)              # (batch_size, seq_length, hidden_size*2)\n",
    "        \n",
    "        # the output of the last token for each sequence are used to represent the whole sequence\n",
    "        output = self.output_layer(z[:, -1, :])              # (batch_size, num_classes)\n",
    "\n",
    "        # Notice we haven't applied a softmax activation to the output layer -- it's not required by Pytorch's loss function.\n",
    "        return output"
   ]
  },
  {
   "attachments": {},
   "cell_type": "markdown",
   "id": "b6a48b91",
   "metadata": {},
   "source": [
    "Set epochs as 15 to train the model defined in the cell above. And then plot a line graph to describe the trainning losses and the validation losses for each epoch."
   ]
  },
  {
   "cell_type": "code",
   "execution_count": 65,
   "id": "48502714",
   "metadata": {},
   "outputs": [
    {
     "name": "stdout",
     "output_type": "stream",
     "text": [
      "Epoch: 1/15 Training Loss: 1.0142 Training Accuracy: 45.2264%\n",
      "Epoch: 1/15 Validation Loss: 1.0077 Validation Accuracy: 44.5000%\n",
      "Epoch: 2/15 Training Loss: 0.9452 Training Accuracy: 51.7571%\n",
      "Epoch: 2/15 Validation Loss: 0.9216 Validation Accuracy: 54.0500%\n",
      "Epoch: 3/15 Training Loss: 0.8323 Training Accuracy: 60.6336%\n",
      "Epoch: 3/15 Validation Loss: 0.8407 Validation Accuracy: 61.6000%\n",
      "Epoch: 4/15 Training Loss: 0.7547 Training Accuracy: 65.3535%\n",
      "Epoch: 4/15 Validation Loss: 0.8242 Validation Accuracy: 61.5000%\n",
      "Epoch: 5/15 Training Loss: 0.6982 Training Accuracy: 69.1439%\n",
      "Epoch: 5/15 Validation Loss: 0.7950 Validation Accuracy: 64.1000%\n",
      "Epoch: 6/15 Training Loss: 0.6511 Training Accuracy: 72.0202%\n",
      "Epoch: 6/15 Validation Loss: 0.8029 Validation Accuracy: 65.0500%\n",
      "Epoch: 7/15 Training Loss: 0.6081 Training Accuracy: 74.4382%\n",
      "Epoch: 7/15 Validation Loss: 0.8007 Validation Accuracy: 64.7000%\n",
      "Epoch: 8/15 Training Loss: 0.5695 Training Accuracy: 76.5538%\n",
      "Epoch: 8/15 Validation Loss: 0.8102 Validation Accuracy: 64.1000%\n",
      "Epoch: 9/15 Training Loss: 0.5342 Training Accuracy: 78.5553%\n",
      "Epoch: 9/15 Validation Loss: 0.8151 Validation Accuracy: 64.4000%\n",
      "Epoch: 10/15 Training Loss: 0.5010 Training Accuracy: 80.2061%\n",
      "Epoch: 10/15 Validation Loss: 0.8408 Validation Accuracy: 64.5500%\n",
      "Epoch: 11/15 Training Loss: 0.4700 Training Accuracy: 81.8437%\n",
      "Epoch: 11/15 Validation Loss: 0.8601 Validation Accuracy: 63.8500%\n",
      "Epoch: 12/15 Training Loss: 0.4414 Training Accuracy: 83.1042%\n",
      "Epoch: 12/15 Validation Loss: 0.8943 Validation Accuracy: 63.7000%\n",
      "Epoch: 13/15 Training Loss: 0.4151 Training Accuracy: 84.3034%\n",
      "Epoch: 13/15 Validation Loss: 0.9212 Validation Accuracy: 63.7000%\n",
      "Epoch: 14/15 Training Loss: 0.3901 Training Accuracy: 85.5048%\n",
      "Epoch: 14/15 Validation Loss: 0.9570 Validation Accuracy: 63.4500%\n",
      "Epoch: 15/15 Training Loss: 0.3677 Training Accuracy: 86.4716%\n",
      "Epoch: 15/15 Validation Loss: 0.9734 Validation Accuracy: 62.3500%\n"
     ]
    },
    {
     "data": {
      "text/plain": [
       "<matplotlib.legend.Legend at 0x154d0e400>"
      ]
     },
     "execution_count": 65,
     "metadata": {},
     "output_type": "execute_result"
    },
    {
     "data": {
      "image/png": "[encoded data removed]",
      "text/plain": [
       "<Figure size 640x480 with 1 Axes>"
      ]
     },
     "metadata": {},
     "output_type": "display_data"
    }
   ],
   "source": [
    "# Obtain the embedding matrix from the pretrained GloVe embeddings,\n",
    "# which will be used to initialize the embedding_layer of the classifier model\n",
    "embedding_matrix = torch.zeros((vocab_size, glove_wv.vector_size))\n",
    "for word in vocab:\n",
    "    word_idx = vocab[word]\n",
    "    if word in glove_wv:\n",
    "        embedding_matrix[word_idx, :] = torch.from_numpy(glove_wv[word])\n",
    "\n",
    "# number of hidden units\n",
    "hidden_size = 8 \n",
    "# initialize the classifier\n",
    "lstm_classifier_with_fine_tune_embedding_model = LSTMTextClassifierWithFineTuneEmbeddings(hidden_size, num_classes, embedding_matrix)\n",
    "# set the random seed manually to ensure that the experiment are reproducible\n",
    "seed=33\n",
    "torch.manual_seed(seed)\n",
    "\n",
    "# train model\n",
    "epochs = 15\n",
    "trained_model, train_losses_by_epoch, dev_losses_by_epoch = train_nn(num_epochs=epochs,\n",
    "                                                                     model=lstm_classifier_with_fine_tune_embedding_model,\n",
    "                                                                     train_dataloader=train_loader,\n",
    "                                                                     dev_dataloader=dev_loader)\n",
    "\n",
    "# plot a line graph to describe the trainning losses and validation losses\n",
    "ax = plt.gca()\n",
    "x_major_locator = MultipleLocator(1)\n",
    "ax.xaxis.set_major_locator(x_major_locator)\n",
    "plt.xlabel('epoch')\n",
    "plt.ylabel('loss value')\n",
    "plt.plot(range(1, epochs+1), train_losses_by_epoch, '-o', label='train_losses')\n",
    "plt.plot(range(1, epochs+1), dev_losses_by_epoch, '-o', label='dev_losses')\n",
    "plt.legend()"
   ]
  },
  {
   "attachments": {},
   "cell_type": "markdown",
   "id": "f8471651",
   "metadata": {},
   "source": [
    "Based on the line graph plotted in the cell above, I observe that optimal epoch is 9, after where the validation losses starts to increase sharply. In the next cell, I train a new model with the optimal epoch and then use this model to make prediction on the test set. Finally, to build a text report showing the main classification metrics."
   ]
  },
  {
   "cell_type": "code",
   "execution_count": 68,
   "id": "3cbde288",
   "metadata": {},
   "outputs": [
    {
     "name": "stdout",
     "output_type": "stream",
     "text": [
      "Epoch: 1/9 Training Loss: 1.0142 Training Accuracy: 45.2264%\n",
      "Epoch: 1/9 Validation Loss: 1.0077 Validation Accuracy: 44.5000%\n",
      "Epoch: 2/9 Training Loss: 0.9452 Training Accuracy: 51.7571%\n",
      "Epoch: 2/9 Validation Loss: 0.9216 Validation Accuracy: 54.0500%\n",
      "Epoch: 3/9 Training Loss: 0.8323 Training Accuracy: 60.6336%\n",
      "Epoch: 3/9 Validation Loss: 0.8407 Validation Accuracy: 61.6000%\n",
      "Epoch: 4/9 Training Loss: 0.7547 Training Accuracy: 65.3535%\n",
      "Epoch: 4/9 Validation Loss: 0.8242 Validation Accuracy: 61.5000%\n",
      "Epoch: 5/9 Training Loss: 0.6982 Training Accuracy: 69.1439%\n",
      "Epoch: 5/9 Validation Loss: 0.7950 Validation Accuracy: 64.1000%\n",
      "Epoch: 6/9 Training Loss: 0.6511 Training Accuracy: 72.0202%\n",
      "Epoch: 6/9 Validation Loss: 0.8029 Validation Accuracy: 65.0500%\n",
      "Epoch: 7/9 Training Loss: 0.6081 Training Accuracy: 74.4382%\n",
      "Epoch: 7/9 Validation Loss: 0.8007 Validation Accuracy: 64.7000%\n",
      "Epoch: 8/9 Training Loss: 0.5695 Training Accuracy: 76.5538%\n",
      "Epoch: 8/9 Validation Loss: 0.8102 Validation Accuracy: 64.1000%\n",
      "Epoch: 9/9 Training Loss: 0.5342 Training Accuracy: 78.5553%\n",
      "Epoch: 9/9 Validation Loss: 0.8151 Validation Accuracy: 64.4000%\n",
      "A text report for the FFTextClassifierWithEmbeddings:\n",
      "              precision    recall  f1-score   support\n",
      "\n",
      "           0       0.65      0.44      0.52      3972\n",
      "           1       0.59      0.69      0.64      5937\n",
      "           2       0.50      0.56      0.53      2375\n",
      "\n",
      "    accuracy                           0.59     12284\n",
      "   macro avg       0.58      0.56      0.56     12284\n",
      "weighted avg       0.59      0.59      0.58     12284\n",
      "\n"
     ]
    }
   ],
   "source": [
    "# Obtain the embedding matrix from the pretrained GloVe embeddings,\n",
    "# which will be used to initialize the embedding_layer of the classifier model\n",
    "embedding_matrix = torch.zeros((vocab_size, glove_wv.vector_size))\n",
    "for word in vocab:\n",
    "    word_idx = vocab[word]\n",
    "    if word in glove_wv:\n",
    "        embedding_matrix[word_idx, :] = torch.from_numpy(glove_wv[word])\n",
    "\n",
    "# number of hidden units\n",
    "hidden_size = 8\n",
    "# initialize the classifier\n",
    "lstm_classifier_with_fine_tune_embedding_model = LSTMTextClassifierWithFineTuneEmbeddings(hidden_size, num_classes, embedding_matrix)\n",
    "# set the random seed manually to ensure that the experiment are reproducible\n",
    "seed=33\n",
    "torch.manual_seed(seed)\n",
    "\n",
    "# train model\n",
    "epochs = 9  # optimal epoch\n",
    "trained_model, train_losses_by_epoch, dev_losses_by_epoch = train_nn(num_epochs=epochs,\n",
    "                                                                     model=lstm_classifier_with_fine_tune_embedding_model,\n",
    "                                                                     train_dataloader=train_loader,\n",
    "                                                                     dev_dataloader=dev_loader)\n",
    "# make predictions\n",
    "gold_labs, pred_labs = predict_nn(trained_model, test_loader)\n",
    "# print a text report showing the main classification metrics\n",
    "print(f'A text report for the FFTextClassifierWithEmbeddings:')\n",
    "print(classification_report(y_true=gold_labs, y_pred=pred_labs))"
   ]
  },
  {
   "attachments": {},
   "cell_type": "markdown",
   "id": "862b8b6e",
   "metadata": {},
   "source": [
    "## Conclusion\n",
    "\n",
    "I implement the three improved and make predictions on the test set. Tabel 1 below shows these three model's performance plus the baseline model.\n",
    "Model     | epoch | weight avg F1 score\n",
    "-------- | ----- | ----\n",
    "FFTextClassifierWithEmbeddings (baseline)  | 15 | 0.40\n",
    "FFTextClassifierWithFineTuneEmbeddings  | 5 | 0.56\n",
    "RNNTextClassifierWithFineTuneEmbeddings | 9 | 0.54\n",
    "LSTMTextClassifierWithFineTuneEmbeddings | 9 | 0.58"
   ]
  }
 ],
 "metadata": {
  "kernelspec": {
   "display_name": "adv_data_analytics",
   "language": "python",
   "name": "adv_data_analytics"
  },
  "language_info": {
   "codemirror_mode": {
    "name": "ipython",
    "version": 3
   },
   "file_extension": ".py",
   "mimetype": "text/x-python",
   "name": "python",
   "nbconvert_exporter": "python",
   "pygments_lexer": "ipython3",
   "version": "3.9.16"
  }
 },
 "nbformat": 4,
 "nbformat_minor": 5
}
